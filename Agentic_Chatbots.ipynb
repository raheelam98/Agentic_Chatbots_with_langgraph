{
  "nbformat": 4,
  "nbformat_minor": 0,
  "metadata": {
    "colab": {
      "provenance": [],
      "authorship_tag": "ABX9TyMJGF3skAXq8UYFk0heTCWF",
      "include_colab_link": true
    },
    "kernelspec": {
      "name": "python3",
      "display_name": "Python 3"
    },
    "language_info": {
      "name": "python"
    }
  },
  "cells": [
    {
      "cell_type": "markdown",
      "metadata": {
        "id": "view-in-github",
        "colab_type": "text"
      },
      "source": [
        "<a href=\"https://colab.research.google.com/github/raheelam98/Agentic_Chatbots_with_langgraph/blob/main/Agentic_Chatbots.ipynb\" target=\"_parent\"><img src=\"https://colab.research.google.com/assets/colab-badge.svg\" alt=\"Open In Colab\"/></a>"
      ]
    },
    {
      "cell_type": "markdown",
      "source": [
        "### Agentic Chatbots\n",
        "Autonomous systems that perform tasks, make decisions, and interact with users with minimal human intervention. Leveraging advanced AI, they understand context, learn from interactions, and provide personalized responses"
      ],
      "metadata": {
        "id": "zlVr3rQZ9tp5"
      }
    },
    {
      "cell_type": "markdown",
      "source": [
        "Install the required packages:"
      ],
      "metadata": {
        "id": "0J4WE32f-UWK"
      }
    },
    {
      "cell_type": "code",
      "source": [
        "# install the required packages\n",
        "\n",
        "%%capture --no-stderr\n",
        "%pip install -U langgraph langsmith langchain_google_genai"
      ],
      "metadata": {
        "id": "kR7eS9vI-T9y"
      },
      "execution_count": 1,
      "outputs": []
    },
    {
      "cell_type": "code",
      "execution_count": null,
      "metadata": {
        "id": "84jg4r-M9d-R"
      },
      "outputs": [],
      "source": []
    }
  ]
}