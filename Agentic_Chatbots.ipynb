{
  "nbformat": 4,
  "nbformat_minor": 0,
  "metadata": {
    "colab": {
      "provenance": [],
      "authorship_tag": "ABX9TyNmNge/DxM3JRPKtViCPst/",
      "include_colab_link": true
    },
    "kernelspec": {
      "name": "python3",
      "display_name": "Python 3"
    },
    "language_info": {
      "name": "python"
    }
  },
  "cells": [
    {
      "cell_type": "markdown",
      "metadata": {
        "id": "view-in-github",
        "colab_type": "text"
      },
      "source": [
        "<a href=\"https://colab.research.google.com/github/raheelam98/Agentic_Chatbots_with_langgraph/blob/main/Agentic_Chatbots.ipynb\" target=\"_parent\"><img src=\"https://colab.research.google.com/assets/colab-badge.svg\" alt=\"Open In Colab\"/></a>"
      ]
    },
    {
      "cell_type": "markdown",
      "source": [
        "### Agentic Chatbots\n",
        "Autonomous systems that perform tasks, make decisions, and interact with users with minimal human intervention. Leveraging advanced AI, they understand context, learn from interactions, and provide personalized responses"
      ],
      "metadata": {
        "id": "zlVr3rQZ9tp5"
      }
    },
    {
      "cell_type": "markdown",
      "source": [
        "Install the required packages:"
      ],
      "metadata": {
        "id": "0J4WE32f-UWK"
      }
    },
    {
      "cell_type": "code",
      "source": [
        "# install the required packages\n",
        "%%capture --no-stderr\n",
        "%pip install -U langgraph langsmith langchain_google_genai"
      ],
      "metadata": {
        "id": "kR7eS9vI-T9y"
      },
      "execution_count": 1,
      "outputs": []
    },
    {
      "cell_type": "markdown",
      "source": [
        "API keys"
      ],
      "metadata": {
        "id": "u6r63EpZ_Dl-"
      }
    },
    {
      "cell_type": "code",
      "execution_count": 2,
      "metadata": {
        "id": "84jg4r-M9d-R"
      },
      "outputs": [],
      "source": [
        "# API Keys\n",
        "import os\n",
        "from google.colab import userdata\n",
        "\n",
        "os.environ[\"LANGCHAIN_API_KEY\"] = userdata.get('LANGCHAIN_API_KEY')\n",
        "os.environ[\"LANGCHAIN_TRACING_V2\"] = \"true\"\n",
        "os.environ[\"LANGCHAIN_PROJECT\"] = \"agentic_chatbot\"\n",
        "\n",
        "gemini_api_key = userdata.get('GEMINI_API_KEY')"
      ]
    },
    {
      "cell_type": "code",
      "source": [
        "# ChatGoogleGenerativeAI\n",
        "from langchain_google_genai import ChatGoogleGenerativeAI\n",
        "\n",
        "llm = ChatGoogleGenerativeAI(\n",
        "    model=\"gemini-1.5-flash\",\n",
        "    max_retries=2,\n",
        "    api_key=gemini_api_key\n",
        ")"
      ],
      "metadata": {
        "id": "KCMJqys2_VGz"
      },
      "execution_count": 3,
      "outputs": []
    },
    {
      "cell_type": "code",
      "source": [
        "# check llm is working\n",
        "result = llm.invoke(\"hi\")\n",
        "result"
      ],
      "metadata": {
        "colab": {
          "base_uri": "https://localhost:8080/"
        },
        "id": "oElllOtlQiwE",
        "outputId": "99581e65-b1c7-4bc1-ca29-eb4621f9af74"
      },
      "execution_count": 4,
      "outputs": [
        {
          "output_type": "execute_result",
          "data": {
            "text/plain": [
              "AIMessage(content='Hi there! How can I help you today?\\n', additional_kwargs={}, response_metadata={'prompt_feedback': {'block_reason': 0, 'safety_ratings': []}, 'finish_reason': 'STOP', 'safety_ratings': []}, id='run-80e47cf9-8704-4679-af80-13bd4a0f0421-0', usage_metadata={'input_tokens': 2, 'output_tokens': 11, 'total_tokens': 13, 'input_token_details': {'cache_read': 0}})"
            ]
          },
          "metadata": {},
          "execution_count": 4
        }
      ]
    },
    {
      "cell_type": "markdown",
      "source": [
        "Chatbot with tools (part 2)"
      ],
      "metadata": {
        "id": "fpULzB_3X67s"
      }
    },
    {
      "cell_type": "code",
      "source": [
        "%%capture --no-stderr\n",
        "%pip install -U tavily-python langchain_community"
      ],
      "metadata": {
        "id": "lrCveq3kYORq"
      },
      "execution_count": 5,
      "outputs": []
    },
    {
      "cell_type": "code",
      "source": [
        "os.environ[\"TAVILY_API_KEY\"] = userdata.get(\"TAVILY_API_KEY\")"
      ],
      "metadata": {
        "id": "M-FM_o9SYVaM"
      },
      "execution_count": 6,
      "outputs": []
    },
    {
      "cell_type": "markdown",
      "source": [
        "## Part 1: Build a Basic Chatbot\n",
        "\n",
        "Create a chatbot that responds directly to user messages.\n",
        "\n",
        "It is a large language model, trained by Google,\n",
        "\n",
        "without access to real-time information (e.g., Karachi Weather) and\n",
        "\n",
        "without retaining memory of previous interactions.\""
      ],
      "metadata": {
        "id": "78jyAv4__nrm"
      }
    },
    {
      "cell_type": "markdown",
      "source": [
        "**`add_messages`** educer function in LangGraph. It's used to manage and update the list of messages in the state.\n",
        "\n",
        "**Reducer Function**: In LangGraph, a reducer function like add_messages helps manage state changes. It takes the current state and an action as input, then returns a new state based on those inputs.\n",
        "\n",
        "Usage in State Management: When you invoke a graph in LangGraph, **`add_messages`** is used to **append new messages to the existing list of messages in the state**.\n",
        "\n",
        "**`add_message`** append, update, and remove messages in the existing list of messages in the state."
      ],
      "metadata": {
        "id": "QSZornbYM_Kh"
      }
    },
    {
      "cell_type": "code",
      "source": [
        "from typing import Annotated\n",
        "\n",
        "from typing_extensions import TypedDict\n",
        "\n",
        "from langgraph.graph import StateGraph, START, END\n",
        "from langgraph.graph.message import add_messages\n",
        "\n",
        "#add_messages : append new messages to the existing list of messages in the state in the graph.\n",
        "# Define the State class with a list of messages\n",
        "class State(TypedDict):\n",
        "    messages: Annotated[list, add_messages]\n",
        "\n",
        "\n",
        "# Create a StateGraph instance with the State type\n",
        "graph_builder = StateGraph(State)\n",
        "\n",
        "# create node of chatbot\n",
        "# Define the chatbot function that uses the state and returns a response from the LLM\n",
        "def chatbot(state: State):\n",
        "    return {\"messages\": [llm.invoke(state[\"messages\"])]}\n",
        "\n",
        "# NOTE\n",
        "# The first argument is the unique node name\n",
        "# The second argument is the function or object that will be called whenever\n",
        "# the node is used.\n",
        "\n",
        "# Check if the node already exists before adding it\n",
        "if \"chatbot\" not in graph_builder.nodes:\n",
        "    graph_builder.add_node(\"chatbot\", chatbot)\n",
        "else:\n",
        "    print(\"Node 'chatbot' already present.\")\n",
        "\n",
        "# # Adding nodes\n",
        "graph_builder.add_edge(START, \"chatbot\")\n",
        "graph_builder.add_edge(\"chatbot\", END)\n",
        "\n",
        "# Compile the graph\n",
        "graph = graph_builder.compile()\n"
      ],
      "metadata": {
        "id": "PoCgQyGqAIUl"
      },
      "execution_count": null,
      "outputs": []
    },
    {
      "cell_type": "markdown",
      "source": [
        "**Visualize the graph**\n",
        "\n",
        "Use get_graph to obtain the graph.\n",
        "\n",
        "Choose a draw method (draw_ascii or draw_png).\n",
        "\n",
        "Ensure you have the required dependencies installed for the chosen draw method."
      ],
      "metadata": {
        "id": "5IUMPX67Ftkc"
      }
    },
    {
      "cell_type": "code",
      "source": [
        "from IPython.display import Image, display\n",
        "\n",
        "try:\n",
        "    display(Image(graph.get_graph().draw_mermaid_png()))\n",
        "except Exception:\n",
        "    # This requires some extra dependencies and is optional\n",
        "    pass"
      ],
      "metadata": {
        "colab": {
          "base_uri": "https://localhost:8080/",
          "height": 251
        },
        "id": "JV4IQ3xsGYqc",
        "outputId": "2246a552-bcd0-4b67-97fb-b95360de2ba5"
      },
      "execution_count": null,
      "outputs": [
        {
          "output_type": "display_data",
          "data": {
            "image/jpeg": "[encoded data removed]",
            "text/plain": [
              "<IPython.core.display.Image object>"
            ]
          },
          "metadata": {}
        }
      ]
    },
    {
      "cell_type": "markdown",
      "source": [
        "Extracts the latest message from the use"
      ],
      "metadata": {
        "id": "yH8AyOHpSKGL"
      }
    },
    {
      "cell_type": "code",
      "source": [
        "# Loop through each event in the stream of events from the graph\n",
        "for event in graph.stream({\"messages\": [(\"user\", \"I am Raheela\")]}):\n",
        "    # Print the latest message content from the user\n",
        "    print(\"EVENT:\", list(event.values())[0][\"messages\"][-1].content)"
      ],
      "metadata": {
        "colab": {
          "base_uri": "https://localhost:8080/"
        },
        "id": "Ur5PQ3VESGvA",
        "outputId": "747939dc-fe24-4be4-a88a-ab8797f97661"
      },
      "execution_count": null,
      "outputs": [
        {
          "output_type": "stream",
          "name": "stdout",
          "text": [
            "EVENT: Hello Raheela! It's nice to meet you. What can I do for you today? \n",
            "\n"
          ]
        }
      ]
    },
    {
      "cell_type": "markdown",
      "source": [
        "Now let's run the chatbot!\n",
        "\n",
        "**Tip:** You can exit the chat loop at any time by typing \"quit\", \"exit\", or \"q\"."
      ],
      "metadata": {
        "id": "tUmHup3yRSZB"
      }
    },
    {
      "cell_type": "code",
      "source": [
        "def stream_graph_updates(user_input: str):\n",
        "    # Loop through each event in the stream of events from the graph based on user input\n",
        "    for event in graph.stream({\"messages\": [(\"user\", user_input)]}):\n",
        "        # Loop through each value in the event\n",
        "        for value in event.values():\n",
        "            # Print the latest message content from the Assistant\n",
        "            print(\"Assistant:\", value[\"messages\"][-1].content)\n",
        "\n",
        "# Continuously prompt the user for input\n",
        "while True:\n",
        "    try:\n",
        "        # Get input from the user\n",
        "        user_input = input(\"User: \")\n",
        "        # Check if the user wants to quit\n",
        "        if user_input.lower() in [\"quit\", \"exit\", \"q\"]:\n",
        "            # Print a goodbye message and break the loop\n",
        "            print(\"Goodbye!\")\n",
        "            break\n",
        "\n",
        "        # Call the stream_graph_updates function with the user input\n",
        "        stream_graph_updates(user_input)\n",
        "    except:\n",
        "        # Fallback if input() is not available\n",
        "        user_input = \"What do you know about LangGraph?\"\n",
        "        # Print the fallback user input\n",
        "        print(\"User: \" + user_input)\n",
        "        # Call the stream_graph_updates function with the fallback user input\n",
        "        stream_graph_updates(user_input)\n",
        "        break\n"
      ],
      "metadata": {
        "colab": {
          "base_uri": "https://localhost:8080/"
        },
        "id": "3PCda9knShzj",
        "outputId": "e37f60a1-011a-41bf-d56e-96b19889531e"
      },
      "execution_count": null,
      "outputs": [
        {
          "output_type": "stream",
          "name": "stdout",
          "text": [
            "User: What do you know about LangGraph?\n",
            "Assistant: I do not have access to real-time information, including specific knowledge about proprietary software like LangGraph. To give you the most accurate information, I need some context. \n",
            "\n",
            "**Could you please tell me more about what you'd like to know about LangGraph?** For example:\n",
            "\n",
            "* **What is LangGraph?** (Is it a software, a service, a research project, etc.?)\n",
            "* **What are you looking for information about?** (Its features, its purpose, its developers, etc.?)\n",
            "\n",
            "Once I have a better understanding of your question, I can provide you with more relevant information. \n",
            "\n"
          ]
        }
      ]
    },
    {
      "cell_type": "markdown",
      "source": [
        "## Part 2: Enhancing the Chatbot with Tools\n",
        "\n",
        "[Tavily Search Engine](https://python.langchain.com/docs/integrations/tools/tavily_search/), and set your [TAVILY_API_KEY](https://tavily.com/)."
      ],
      "metadata": {
        "id": "L67FO9RGU2G1"
      }
    },
    {
      "cell_type": "markdown",
      "source": [
        "Added `bind_tools` on our LLM. This lets the LLM know the correct JSON format to use if it wants to use our search engine."
      ],
      "metadata": {
        "id": "H9cSorLrZSFv"
      }
    },
    {
      "cell_type": "markdown",
      "source": [
        "\n",
        "#### Integrating tools for search results\n",
        "\n",
        "Install the Required Packages to Add Tool (tavily-python and langchain_community) for Real-Time Search (e.g., Karachi Weather)\n",
        "\n",
        "```bash\n",
        "%%capture --no-stderr\n",
        "%pip install -U tavily-python langchain_community\n",
        "```\n",
        "\n",
        "Setting the API key in the environment variable TAVILY_API_KEY\n",
        "\n",
        "```bash\n",
        "os.environ[\"TAVILY_API_KEY\"] = userdata.get(\"TAVILY_API_KEY\")\n",
        "```\n",
        "\n",
        "Next, define the tool\n",
        "\n",
        "**`TavilySearchResults(max_results=2)`** initializes a search tool that retrieves and returns up to 2 search results.\n",
        "\n",
        "Initializes a search tool that retrieves and returns up to 2 search results.\n",
        "```bash\n",
        "tool = TavilySearchResults(max_results=2)\n",
        "tools = [tool]\n",
        "```\n",
        "\n",
        "**`bind_tools()`** Integrates the specified tools with the language model, enabling the model to invoke these tools during its execution\n",
        "\n",
        "```bash\n",
        "llm_with_tools = llm.bind_tools(tools)\n",
        "```\n",
        "This line integrates the tools list with the language model llm, resulting in a new instance (llm_with_tools) that can use these tools during its operations.\n",
        "\n",
        "**`add_conditional_edges`** Define conditional edges for the chatbot node based on tool usage\n",
        "```bash\n",
        "graph_builder.add_conditional_edges(\n",
        "    \"chatbot\",\n",
        "    tools_condition\n",
        ")\n",
        "```"
      ],
      "metadata": {
        "id": "I-AUteiwioRC"
      }
    },
    {
      "cell_type": "markdown",
      "source": [
        "**rm note**\n",
        "\n",
        "**`ToolNode`** is a built-in function of LangGraph. We can create our own custom function that provides a list of tools such as a search engine, Excel file operations, weather search, or database search in SQL. To integrate these tools into LangGraph, pass them into a custom `ToolNode`. We’ll build our own `BasicToolNode` and replace LangGraph’s prebuilt `ToolNode` and `tools_condition` with it, using\n",
        "\n",
        "ToolNode(tools=[your_tool]).\n",
        "\n",
        "\n",
        "**ToolNode** is essentially a node within a workflow or graph that is designated to execute a specific tool or function when called.\n",
        "\n",
        "**ToolNode** is a LangChain Runnable that takes graph state (with a list of messages) as input and outputs state update with the result of tool calls.\n",
        "\n",
        "**ToolNode** is just a class that helps with this execution. You pass it your list of tools, and internally it stores them as name-function pairs."
      ],
      "metadata": {
        "id": "uC6HKz_p4_Pd"
      }
    },
    {
      "cell_type": "markdown",
      "source": [
        "**function call** provide external data to llm\n",
        "add anything in function call\n",
        "\n",
        "We can add data from our database or search for things on the web available in part 2\n",
        "\n",
        "Note: The LLM never directly calls the tool. Instead, it generates a query and specifies which tool is required to run"
      ],
      "metadata": {
        "id": "ejETyUEqWaMa"
      }
    },
    {
      "cell_type": "markdown",
      "source": [
        "Relationship between the LLM and LangGraph, and why the tool needs to be passed twice.\n",
        "\n",
        "**LLM and LangGraph**\n",
        "\n",
        "LangGraph has nodes.\n",
        "\n",
        "The LLM doesn't know which tool to call by itself. LangGraph manages the tools.\n",
        "\n",
        "To enable the LLM to call the tool, we bind the tool to the LLM.\n",
        "\n",
        "The LLM then generates the query and specifies which tool is required to run.\n",
        "\n",
        "LangGraph handles the actual tool invocation.\n",
        "\n",
        "That's why we pass the tool twice:\n",
        "\n",
        "(Part 2: Enhancing the Chatbot with Tools)\n",
        "\n",
        "**Initializes a search tool that retrieves and returns up to 2 search results**\n",
        "```bash\n",
        "tool = TavilySearchResults(max_results=2)\n",
        "tools = [tool]\n",
        "```\n",
        "\n",
        "**Modification: tell the LLM which tools it can call**\n",
        "```bash\n",
        "llm_with_tools = llm.bind_tools(tools)\n",
        "```"
      ],
      "metadata": {
        "id": "rHIDnxNieDNY"
      }
    },
    {
      "cell_type": "markdown",
      "source": [
        "**`add_conditional_edges()`** is a function used to add conditional connections between nodes in a graph, based on specific conditions. It helps create dynamic workflows where the next step depends on certain criteria being met.\n",
        "\n",
        "**`graph_builder.add_conditional_edges(\"chatbot\", tools_condition)`**\n",
        "\n",
        "Purpose: Adds an edge from the `chatbot` node to another node, only if the `tools_condition` is satisfied."
      ],
      "metadata": {
        "id": "1hQNWrlp5mYt"
      }
    },
    {
      "cell_type": "code",
      "source": [
        "from typing import Annotated\n",
        "\n",
        "from langchain_community.tools.tavily_search import TavilySearchResults\n",
        "from langchain_core.messages import BaseMessage\n",
        "from typing_extensions import TypedDict\n",
        "\n",
        "from langgraph.graph import StateGraph, START, END\n",
        "from langgraph.graph.message import add_messages\n",
        "from langgraph.prebuilt import ToolNode, tools_condition\n",
        "\n",
        "#(part 1 : Basic Chatbot)\n",
        "#add_messages : append new messages to the existing list of messages in the state in the graph.\n",
        "# Define the State class with a list of messages (part 1)\n",
        "class State(TypedDict):\n",
        "    messages: Annotated[list, add_messages]\n",
        "\n",
        "#(part 1 : Basic Chatbot)\n",
        "# Create a StateGraph instance with the State type (part 1)\n",
        "graph_builder = StateGraph(State)\n",
        "\n",
        "# (Part 2: Enhancing the Chatbot with Tools)\n",
        "# Initializes a search tool that retrieves and returns up to 2 search results.\n",
        "tool = TavilySearchResults(max_results=2)\n",
        "tools = [tool]\n",
        "\n",
        "# (Part 2: Enhancing the Chatbot with Tools)\n",
        "# Modification: tell the LLM which tools it can call\n",
        "llm_with_tools = llm.bind_tools(tools)\n",
        "\n",
        "#(part 1 : Basic Chatbot)\n",
        "# Define the chatbot function that uses the state and returns a response from the LLM\n",
        "def chatbot(state: State):\n",
        "    return {\"messages\": [llm_with_tools.invoke(state[\"messages\"])]}\n",
        "\n",
        "#(part 1 : Basic Chatbot)\n",
        "# Any time a tool is called, we return to the chatbot to decide the next step\n",
        "graph_builder.add_node(\"chatbot\", chatbot)\n",
        "\n",
        "# (Part 2: Enhancing the Chatbot with Tools)\n",
        "# Add the tools node to the graph\n",
        "tool_node = ToolNode(tools=[tool])\n",
        "graph_builder.add_node(\"tools\", tool_node)\n",
        "\n",
        "# (Part 2: Enhancing the Chatbot with Tools)\n",
        "# Define conditional edges for the chatbot node based on tool usage\n",
        "graph_builder.add_conditional_edges(\n",
        "    \"chatbot\",\n",
        "    tools_condition\n",
        ")\n",
        "\n",
        "#(part 1 : Basic Chatbot)\n",
        "# Any time a tool is called, we return to the chatbot to decide the next step\n",
        "graph_builder.add_edge(\"tools\", \"chatbot\")\n",
        "\n",
        "# Define the starting point of the graph as the chatbot node\n",
        "graph_builder.add_edge(START, \"chatbot\")\n",
        "\n",
        "#(part 1 : Basic Chatbot)\n",
        "# Compile the graph\n",
        "graph = graph_builder.compile()"
      ],
      "metadata": {
        "id": "PUSnH4ryYriV"
      },
      "execution_count": null,
      "outputs": []
    },
    {
      "cell_type": "markdown",
      "source": [
        " **Visualize the graph**"
      ],
      "metadata": {
        "id": "mCSlSHHUfA53"
      }
    },
    {
      "cell_type": "code",
      "source": [
        "from IPython.display import Image, display\n",
        "\n",
        "try:\n",
        "    display(Image(graph.get_graph().draw_mermaid_png()))\n",
        "except Exception:\n",
        "    # This requires some extra dependencies and is optional\n",
        "    pass"
      ],
      "metadata": {
        "colab": {
          "base_uri": "https://localhost:8080/",
          "height": 266
        },
        "id": "NykoVSCffNgt",
        "outputId": "d73ecd7e-3afe-4049-b7e2-eac63a43233b"
      },
      "execution_count": null,
      "outputs": [
        {
          "output_type": "display_data",
          "data": {
            "image/jpeg": "[encoded data removed]",
            "text/plain": [
              "<IPython.core.display.Image object>"
            ]
          },
          "metadata": {}
        }
      ]
    },
    {
      "cell_type": "markdown",
      "source": [
        "Now we can ask the bot questions outside its training data."
      ],
      "metadata": {
        "id": "4Hxrw5QfwfAH"
      }
    },
    {
      "cell_type": "markdown",
      "source": [
        "Chatbot Loop with Real-Time User Input Processing and No Memory Retention"
      ],
      "metadata": {
        "id": "rWPZaiTrwgA-"
      }
    },
    {
      "cell_type": "code",
      "source": [
        "# 1) Web search is available. 2) Does not maintain chat history (no memory).\n",
        "while True:\n",
        "    try:\n",
        "        # Prompt the user for input\n",
        "        user_input = input(\"User: \")\n",
        "        # Check if the user wants to quit\n",
        "        if user_input.lower() in [\"quit\", \"exit\", \"q\"]:\n",
        "            # Print a goodbye message and break the loop\n",
        "            print(\"Goodbye!\")\n",
        "            break\n",
        "\n",
        "        # Call the stream_graph_updates function with the user input\n",
        "        stream_graph_updates(user_input)\n",
        "    except:\n",
        "        # Fallback if input() is not available\n",
        "        user_input = \"What do you know about LangGraph?\"\n",
        "        # Print the fallback user input\n",
        "        print(\"User: \" + user_input)\n",
        "        # Call the stream_graph_updates function with the fallback user input\n",
        "        stream_graph_updates(user_input)\n",
        "        break\n"
      ],
      "metadata": {
        "colab": {
          "base_uri": "https://localhost:8080/"
        },
        "id": "wXfPJb2B2AVc",
        "outputId": "b6160270-4c22-455a-f3a5-8fd95c160ebe"
      },
      "execution_count": null,
      "outputs": [
        {
          "output_type": "stream",
          "name": "stdout",
          "text": [
            "User: q\n",
            "Goodbye!\n"
          ]
        }
      ]
    },
    {
      "cell_type": "markdown",
      "source": [
        "## Part 3: Adding Memory to the Chatbot"
      ],
      "metadata": {
        "id": "tuX1hU8g6Wgs"
      }
    },
    {
      "cell_type": "markdown",
      "source": [
        "**Memory checkpointing**  \n",
        "provides state to the chatbot, allowing it to maintain the history based on `thread_id`.\n",
        "\n",
        "\n",
        "Add memory saver for checkpointing:\n",
        "```bash\n",
        "from langgraph.checkpoint.memory import MemorySaver\n",
        "\n",
        "memory = MemorySaver()\n",
        "```\n",
        "\n",
        "Compile the graph with memory checkpointing:\n",
        "```bash\n",
        "graph = graph_builder.compile(checkpointer=memory)\n",
        "```\n",
        "Checkpointing the state as the graph works through each node.\n",
        "\n",
        "**`graph = graph_builder.compile(checkpointer=MemorySaver())`** compiles the graph with memory checkpointing, allowing it to save and restore the state of the graph's nodes during its execution.\n",
        "\n",
        "To interact with the bot, first, pick a thread to use as the key for this conversation:\n",
        "```bash\n",
        "config = {\"configurable\": {\"thread_id\": \"1\"}}\n",
        "```\n",
        "\n",
        "The **chatbot can remember the state of the conversation within a given thread** but won't retain context if the thread ID is changed.\n"
      ],
      "metadata": {
        "id": "RB32OdryFAge"
      }
    },
    {
      "cell_type": "code",
      "source": [
        "from typing import Annotated\n",
        "\n",
        "from langchain_community.tools.tavily_search import TavilySearchResults\n",
        "from typing_extensions import TypedDict\n",
        "\n",
        "from langgraph.checkpoint.memory import MemorySaver\n",
        "from langgraph.graph import StateGraph, START # , END\n",
        "from langgraph.graph.message import add_messages\n",
        "from langgraph.prebuilt import ToolNode, tools_condition\n",
        "\n",
        "# (Part 3: Adding Memory to the Chatbot)\n",
        "# Add memory saver for checkpointing\n",
        "memory = MemorySaver()\n",
        "\n",
        "# (Part 1: Basic Chatbot)\n",
        "#add_messages : append new messages to the existing list of messages in the state in the graph.\n",
        "# Define the State class with a list of messages (part 1)\n",
        "class State(TypedDict):\n",
        "    messages: Annotated[list, add_messages]\n",
        "\n",
        "# (Part 1: Basic Chatbot)\n",
        "# Create a StateGraph instance with the State type (part 1)\n",
        "graph_builder = StateGraph(State)\n",
        "\n",
        "# (Part 2: Enhancing the Chatbot with Tools)\n",
        "# Initializes a search tool that retrieves and returns up to 2 search results.\n",
        "tool = TavilySearchResults(max_results=2)\n",
        "tools = [tool]\n",
        "\n",
        "# (Part 2: Enhancing the Chatbot with Tools)\n",
        "# Integrate LLM with bind_tools for web search\n",
        "llm_with_tools = llm.bind_tools(tools)\n",
        "\n",
        "# (Part 1: Basic Chatbot)\n",
        "# Define the chatbot function that uses the state and returns a response from the LLM\n",
        "def chatbot(state: State):\n",
        "    return {\"messages\": [llm_with_tools.invoke(state[\"messages\"])]}\n",
        "\n",
        "# (Part 1: Basic Chatbot)\n",
        "# Add the chatbot node to the graph\n",
        "graph_builder.add_node(\"chatbot\", chatbot)\n",
        "\n",
        "# (Part 2: Enhancing the Chatbot with Tools)\n",
        "# Add the tools node to the graph\n",
        "tool_node = ToolNode(tools=[tool])\n",
        "graph_builder.add_node(\"tools\", tool_node)\n",
        "\n",
        "# (Part 2: Enhancing the Chatbot with Tools)\n",
        "# Define conditional edges for the chatbot node based on tool usage\n",
        "graph_builder.add_conditional_edges(\n",
        "    \"chatbot\",\n",
        "    tools_condition,\n",
        ")\n",
        "\n",
        "# (Part 1: Basic Chatbot)\n",
        "# Any time a tool is called, we return to the chatbot to decide the next step\n",
        "graph_builder.add_edge(\"tools\", \"chatbot\")\n",
        "\n",
        "# (Part 1: Basic Chatbot)\n",
        "# Define the starting point of the graph as the chatbot node\n",
        "graph_builder.add_edge(START, \"chatbot\")\n",
        "\n",
        "# (Part 3: Adding Memory to the Chatbot)\n",
        "# Compile the graph with memory checkpointing\n",
        "graph = graph_builder.compile(checkpointer=MemorySaver())\n"
      ],
      "metadata": {
        "id": "A0bI5JdKGviD"
      },
      "execution_count": null,
      "outputs": []
    },
    {
      "cell_type": "markdown",
      "source": [
        " **Visualize the graph**"
      ],
      "metadata": {
        "id": "Da9FFeB7GWqH"
      }
    },
    {
      "cell_type": "code",
      "source": [
        "from IPython.display import Image, display\n",
        "\n",
        "try:\n",
        "    display(Image(graph.get_graph().draw_mermaid_png()))\n",
        "except Exception:\n",
        "    # This requires some extra dependencies and is optional\n",
        "    pass"
      ],
      "metadata": {
        "colab": {
          "base_uri": "https://localhost:8080/",
          "height": 266
        },
        "id": "2O00-_BBGWSU",
        "outputId": "e4939bdb-5754-4679-d81f-abdd93ece04a"
      },
      "execution_count": null,
      "outputs": [
        {
          "output_type": "display_data",
          "data": {
            "image/jpeg": "[encoded data removed]",
            "text/plain": [
              "<IPython.core.display.Image object>"
            ]
          },
          "metadata": {}
        }
      ]
    },
    {
      "cell_type": "markdown",
      "source": [
        "Now you can interact with your bot! First, pick a thread to use as the key for this conversation."
      ],
      "metadata": {
        "id": "y4xNWmPlJ5P3"
      }
    },
    {
      "cell_type": "code",
      "source": [
        "config = {\"configurable\": {\"thread_id\": \"1\"}}"
      ],
      "metadata": {
        "id": "9yVIIb0gJ7Vg"
      },
      "execution_count": null,
      "outputs": []
    },
    {
      "cell_type": "markdown",
      "source": [
        "Next, call your chat bot."
      ],
      "metadata": {
        "id": "XNU58obeJDbC"
      }
    },
    {
      "cell_type": "code",
      "source": [
        "user_input = \"Hi there! My name is Raheela.\"\n",
        "\n",
        "# The config is the **second positional argument** to stream() or invoke()!\n",
        "events = graph.stream(\n",
        "    {\"messages\": [(\"user\", user_input)]}, config, stream_mode=\"values\"\n",
        ")\n",
        "\n",
        "# Loop through each event in the stream\n",
        "for event in events:\n",
        "    # Print the latest message content from the event\n",
        "    event[\"messages\"][-1].pretty_print()"
      ],
      "metadata": {
        "colab": {
          "base_uri": "https://localhost:8080/"
        },
        "id": "_NinJdGoJcnG",
        "outputId": "92b9f8dc-02ee-473a-9893-b4f93f3c8e78"
      },
      "execution_count": null,
      "outputs": [
        {
          "output_type": "stream",
          "name": "stdout",
          "text": [
            "================================\u001b[1m Human Message \u001b[0m=================================\n",
            "\n",
            "Hi there! My name is Raheela.\n",
            "==================================\u001b[1m Ai Message \u001b[0m==================================\n",
            "\n",
            "Hi Raheela, nice to meet you! 👋  What can I do for you today? 😊\n"
          ]
        }
      ]
    },
    {
      "cell_type": "code",
      "source": [
        "user_input = \"Remember my name?\"\n",
        "\n",
        "# The config is the **second positional argument** to stream() or invoke()!\n",
        "events = graph.stream(\n",
        "    {\"messages\": [(\"user\", user_input)]}, config, stream_mode=\"values\"\n",
        ")\n",
        "\n",
        "# Loop through each event in the stream\n",
        "for event in events:\n",
        "    # Print the latest message content from the event\n",
        "    event[\"messages\"][-1].pretty_print()\n"
      ],
      "metadata": {
        "colab": {
          "base_uri": "https://localhost:8080/"
        },
        "id": "jc5LyOH9OxuD",
        "outputId": "53355040-a021-4e28-a1ca-3d00550e1399"
      },
      "execution_count": null,
      "outputs": [
        {
          "output_type": "stream",
          "name": "stdout",
          "text": [
            "================================\u001b[1m Human Message \u001b[0m=================================\n",
            "\n",
            "Remember my name?\n",
            "==================================\u001b[1m Ai Message \u001b[0m==================================\n",
            "\n",
            "I will try my best to remember your name, Raheela! 😊  Is there anything else I can help you with?\n"
          ]
        }
      ]
    },
    {
      "cell_type": "markdown",
      "source": [
        "The **chatbot can remember the state of the conversation within a given thread** but won't retain context if the thread ID is changed."
      ],
      "metadata": {
        "id": "jcioHvBqPYay"
      }
    },
    {
      "cell_type": "code",
      "source": [
        "# The only difference is we change the `thread_id` here to \"2\" instead of \"1\"\n",
        "events = graph.stream(\n",
        "    {\"messages\": [(\"user\", user_input)]},\n",
        "    {\"configurable\": {\"thread_id\": \"2\"}},\n",
        "    stream_mode=\"values\",\n",
        ")\n",
        "for event in events:\n",
        "    event[\"messages\"][-1].pretty_print()"
      ],
      "metadata": {
        "colab": {
          "base_uri": "https://localhost:8080/"
        },
        "id": "CWeMjreoP6Gq",
        "outputId": "187cc640-52b8-4b9c-ea17-6508e1fac591"
      },
      "execution_count": null,
      "outputs": [
        {
          "output_type": "stream",
          "name": "stdout",
          "text": [
            "================================\u001b[1m Human Message \u001b[0m=================================\n",
            "\n",
            "Remember my name?\n",
            "==================================\u001b[1m Ai Message \u001b[0m==================================\n",
            "\n",
            "I am sorry, I do not have memory of past conversations. I am a large language model, and I do not have the ability to store personal information like names.\n"
          ]
        }
      ]
    },
    {
      "cell_type": "markdown",
      "source": [
        "goes into a checkpoint? To inspect a graph's state for a given config at any time, call get_state(config).\n",
        "\n",
        "```bash\n",
        "# Fetch the current state of the graph for the given configuration\n",
        "snapshot = graph.get_state(config)\n",
        "\n",
        "# Inspect the snapshot\n",
        "snapshot\n",
        "\n",
        "```\n",
        "\n",
        "Retrieve the next node to execute (empty if the graph ended this turn)\n",
        "\n",
        "```bash\n",
        "snapshot.next\n",
        "```\n",
        "(since the graph ended this turn, `next` is empty. If you fetch a state from within a graph invocation, next tells which node will execute next)"
      ],
      "metadata": {
        "id": "Wq6L0r3qQjfO"
      }
    },
    {
      "cell_type": "markdown",
      "source": [
        "## Part 4: Human-in-the-loop"
      ],
      "metadata": {
        "id": "8m9yKfxGSjYr"
      }
    },
    {
      "cell_type": "markdown",
      "source": [
        "**Freezer and un unfreez node**\n",
        "\n",
        "LangGraph's interrupt_before functionality to always break the tool node.\n",
        "\n",
        "**`graph = graph_builder.compile(checkpointer=memory, interrupt_before=[\"tools\"])`**\n",
        "\n",
        "**`interrupt_before=[\"tools\"]`** This is new! it pose the node and can perform read and write opration\n",
        "\n",
        "Note: can also interrupt __after__ tools, if desired.\n",
        "**`interrupt_after=[\"tools\"]`** it pose the node and can perform read and write opration\n",
        "\n",
        "\n",
        "**`get_state()`**  Retrieve the current state of a particular object\n",
        "\n",
        "**`.next`** Find out what the next node to execute\n",
        "\n",
        "**`.config`** Show the current configuration of the state\n",
        "\n",
        "**`.value`**  Show all values\n",
        "\n",
        "**inspect the graph state to confirm it worked**\n",
        "\n",
        "* `snapshot = graph.get_state(config)`  # Retrieve the current state of the graph\n",
        "* `snapshot.config`  # Show the current configuration of the state\n",
        "* `snapshot.next`  # Retrieve the next node that will execute in the graph. If the graph ended this turn, next will be empty\n",
        "\n",
        "\n",
        "```bash\n",
        "snapshot = graph.get_state(config)  # Retrieve the current state or status of the graph\n",
        "snapshot.next  # Find out what the next node to execute is\n",
        "snapshot.config  # Show the current configuration of the state\n",
        "snapshot.values  # Show values\n",
        "snapshot.values['messages']  # Show messages\n",
        "\n",
        "existing_message = snapshot.values[\"messages\"][-1]  # Find out the last message\n",
        "existing_message.pretty_print()  # Print message\n",
        "\n",
        "existing_message.tool_calls  # Get tool data\n",
        "```"
      ],
      "metadata": {
        "id": "MrZwoSNkWQHg"
      }
    },
    {
      "cell_type": "code",
      "source": [
        "from typing import Annotated\n",
        "\n",
        "from langchain_community.tools.tavily_search import TavilySearchResults\n",
        "from typing_extensions import TypedDict\n",
        "\n",
        "from langgraph.checkpoint.memory import MemorySaver\n",
        "from langgraph.graph import StateGraph, START # , END\n",
        "from langgraph.graph.message import add_messages\n",
        "from langgraph.prebuilt import ToolNode, tools_condition\n",
        "\n",
        "\n",
        "# (Part 1: Basic Chatbot)\n",
        "#add_messages : append new messages to the existing list of messages in the state in the graph.\n",
        "# Define the State class with a list of messages\n",
        "class State(TypedDict):\n",
        "    messages: Annotated[list, add_messages]\n",
        "\n",
        "# (Part 1: Basic Chatbot)\n",
        "# Create a StateGraph instance with the State type\n",
        "graph_builder = StateGraph(State)\n",
        "\n",
        "\n",
        "# (Part 2: Enhancing the Chatbot with Tools)\n",
        "# Initializes a search tool that retrieves and returns up to 2 search results.\n",
        "tool = TavilySearchResults(max_results=2)\n",
        "tools = [tool]\n",
        "\n",
        "# (Part 2: Enhancing the Chatbot with Tools)\n",
        "# Bind the tools to the LLM for web search functionality\n",
        "llm_with_tools = llm.bind_tools(tools)\n",
        "\n",
        "# (Part 1: Basic Chatbot)\n",
        "# Define the chatbot function that uses the state and returns a response from the LLM\n",
        "def chatbot(state: State):\n",
        "    return {\"messages\": [llm_with_tools.invoke(state[\"messages\"])]}\n",
        "\n",
        "# (Part 1: Basic Chatbot)\n",
        "# Add the chatbot node to the graph\n",
        "graph_builder.add_node(\"chatbot\", chatbot)\n",
        "\n",
        "# (Part 2: Enhancing the Chatbot with Tools)\n",
        "# Add the tools node to the graph\n",
        "tool_node = ToolNode(tools=[tool])\n",
        "graph_builder.add_node(\"tools\", tool_node)\n",
        "\n",
        "# (Part 2: Enhancing the Chatbot with Tools)\n",
        "# Define conditional edges for the chatbot node based on tool usage\n",
        "graph_builder.add_conditional_edges(\n",
        "    \"chatbot\",\n",
        "    tools_condition,\n",
        ")\n",
        "\n",
        "# (Part 1: Basic Chatbot)\n",
        "# Any time a tool is called, we return to the chatbot to decide the next step\n",
        "graph_builder.add_edge(\"tools\", \"chatbot\")\n",
        "\n",
        "# (Part 1: Basic Chatbot)\n",
        "# Define the starting point of the graph as the chatbot node\n",
        "graph_builder.add_edge(START, \"chatbot\")\n"
      ],
      "metadata": {
        "id": "BEYknvlNTBiM",
        "colab": {
          "base_uri": "https://localhost:8080/"
        },
        "outputId": "b6be1e69-56c6-414d-eb63-cab8770d5cb2"
      },
      "execution_count": null,
      "outputs": [
        {
          "output_type": "execute_result",
          "data": {
            "text/plain": [
              "<langgraph.graph.state.StateGraph at 0x79849802f7c0>"
            ]
          },
          "metadata": {},
          "execution_count": 9
        }
      ]
    },
    {
      "cell_type": "code",
      "source": [
        "# (Part 3: Adding Memory to the Chatbot)\n",
        "# Add memory saver for checkpointing\n",
        "memory = MemorySaver()\n",
        "\n",
        "# Compile the graph with memory checkpointing and interrupt configurations\n",
        "graph = graph_builder.compile(\n",
        "    checkpointer=memory,\n",
        "    # This is new! (Part 4: Human-in-the-loop)\n",
        "    # Interrupt before running tools node\n",
        "    interrupt_before=[\"tools\"],  #interrupt_before the tools node\n",
        ")"
      ],
      "metadata": {
        "id": "b14w6Oy-x2b2"
      },
      "execution_count": null,
      "outputs": []
    },
    {
      "cell_type": "code",
      "source": [
        "print(graph)"
      ],
      "metadata": {
        "colab": {
          "base_uri": "https://localhost:8080/"
        },
        "id": "kdlB-y7Bc-Ra",
        "outputId": "7826ae45-2075-442f-cd8c-2c819151a248"
      },
      "execution_count": null,
      "outputs": [
        {
          "output_type": "stream",
          "name": "stdout",
          "text": [
            "<langgraph.graph.state.CompiledStateGraph object at 0x7b72401949a0>\n"
          ]
        }
      ]
    },
    {
      "cell_type": "markdown",
      "source": [
        "**Visualize the graph**"
      ],
      "metadata": {
        "id": "km50saYkZ3yd"
      }
    },
    {
      "cell_type": "code",
      "source": [
        "from IPython.display import Image, display\n",
        "\n",
        "try:\n",
        "    display(Image(graph.get_graph().draw_mermaid_png()))\n",
        "except Exception:\n",
        "    # This requires some extra dependencies and is optional\n",
        "    pass"
      ],
      "metadata": {
        "colab": {
          "base_uri": "https://localhost:8080/",
          "height": 308
        },
        "id": "uzBvb2qrZ_yn",
        "outputId": "33e70d04-36c3-4d5f-d2a0-0ffac5c7ad2e"
      },
      "execution_count": null,
      "outputs": [
        {
          "output_type": "display_data",
          "data": {
            "image/jpeg": "[encoded data removed]",
            "text/plain": [
              "<IPython.core.display.Image object>"
            ]
          },
          "metadata": {}
        }
      ]
    },
    {
      "cell_type": "code",
      "source": [
        "# User input example\n",
        "user_input = \"I'm learning LangGraph. Could you do some research on it for me?\"\n",
        "\n",
        "# Configuration for the thread ID\n",
        "config = {\"configurable\": {\"thread_id\": \"1\"}}\n",
        "\n",
        "# The config is the **second positional argument** to stream() or invoke()!\n",
        "events = graph.stream(\n",
        "    {\"messages\": [(\"user\", user_input)]}, config, stream_mode=\"values\"\n",
        ")\n",
        "\n",
        "# Loop through each event in the stream\n",
        "for event in events:\n",
        "    if \"messages\" in event:\n",
        "        # Print the latest message content from the event\n",
        "        event[\"messages\"][-1].pretty_print()\n"
      ],
      "metadata": {
        "id": "F-jvR1Xico2x",
        "colab": {
          "base_uri": "https://localhost:8080/"
        },
        "outputId": "cd6c9fa7-9282-4525-b367-2b1b96dc842c"
      },
      "execution_count": null,
      "outputs": [
        {
          "output_type": "stream",
          "name": "stdout",
          "text": [
            "================================\u001b[1m Human Message \u001b[0m=================================\n",
            "\n",
            "I'm learning LangGraph. Could you do some research on it for me?\n",
            "==================================\u001b[1m Ai Message \u001b[0m==================================\n",
            "\n",
            "It sounds like you're embarking on a journey into the world of LangGraph! To help you learn effectively, I need a little more direction.  \n",
            "\n",
            "What specifically about LangGraph are you curious about?  For example, are you interested in:\n",
            "\n",
            "* **The core concepts?**  Like how it represents text as a graph, the different types of nodes and edges, and how it uses graph algorithms for analysis?\n",
            "* **Practical applications?**  Maybe you'd like to see how it's used for semantic search, text summarization, or knowledge graph construction?\n",
            "* **Code examples and tutorials?**  Are you looking for hands-on guidance on how to build a LangGraph from text data, or how to use it for specific tasks?\n",
            "* **The latest research and advancements?**  Do you want to explore cutting-edge developments in LangGraph and its potential?\n",
            "\n",
            "Tell me more about your specific interests, and I'll do my best to provide you with helpful information and resources!\n"
          ]
        }
      ]
    },
    {
      "cell_type": "code",
      "source": [
        "#inspect the graph state to confirm it worked.\n",
        "snapshot = graph.get_state(config)  # Retrieve the current state or status of the graph\n",
        "snapshot.next   # Retrieve the next node that will execute in the graph"
      ],
      "metadata": {
        "colab": {
          "base_uri": "https://localhost:8080/"
        },
        "id": "IwYN6GURcsuD",
        "outputId": "a6fca8fd-eb12-459c-b46a-963826382eec"
      },
      "execution_count": null,
      "outputs": [
        {
          "output_type": "execute_result",
          "data": {
            "text/plain": [
              "()"
            ]
          },
          "metadata": {},
          "execution_count": 40
        }
      ]
    },
    {
      "cell_type": "markdown",
      "source": [
        "Notice that unlike last time, the \"next\" node is set to 'tools'. We've interrupted here! Let's check the tool invocation."
      ],
      "metadata": {
        "id": "ho3FEUrodhqn"
      }
    },
    {
      "cell_type": "code",
      "source": [
        "existing_message = snapshot.values[\"messages\"][-1]  # Find out the last message\n",
        "existing_message.pretty_print()  # Print message\n",
        "\n",
        "print(\"\\nexisting message - tool_call\")\n",
        "existing_message.tool_calls  # Get tool data"
      ],
      "metadata": {
        "colab": {
          "base_uri": "https://localhost:8080/"
        },
        "id": "5fkyzqUsdjU-",
        "outputId": "9a28d1f7-48b7-4077-cf33-ad564f028693"
      },
      "execution_count": null,
      "outputs": [
        {
          "output_type": "stream",
          "name": "stdout",
          "text": [
            "==================================\u001b[1m Ai Message \u001b[0m==================================\n",
            "\n",
            "It sounds like you're embarking on a journey into the world of LangGraph! To help you learn effectively, I need a little more direction.  \n",
            "\n",
            "What specifically about LangGraph are you curious about?  For example, are you interested in:\n",
            "\n",
            "* **The core concepts?**  Like how it represents text as a graph, the different types of nodes and edges, and how it uses graph algorithms for analysis?\n",
            "* **Practical applications?**  Maybe you'd like to see how it's used for semantic search, text summarization, or knowledge graph construction?\n",
            "* **Code examples and tutorials?**  Are you looking for hands-on guidance on how to build a LangGraph from text data, or how to use it for specific tasks?\n",
            "* **The latest research and advancements?**  Do you want to explore cutting-edge developments in LangGraph and its potential?\n",
            "\n",
            "Tell me more about your specific interests, and I'll do my best to provide you with helpful information and resources!\n",
            "\n",
            "existing message - tool_call\n"
          ]
        },
        {
          "output_type": "execute_result",
          "data": {
            "text/plain": [
              "[]"
            ]
          },
          "metadata": {},
          "execution_count": 42
        }
      ]
    },
    {
      "cell_type": "markdown",
      "source": [
        "resume, and check work flow\n"
      ],
      "metadata": {
        "id": "VL6S7V_SuHXz"
      }
    },
    {
      "cell_type": "code",
      "source": [
        "# `None` will append nothing new to the current state, letting it resume as if it had never been interrupted\n",
        "events = graph.stream(None, config, stream_mode=\"values\")\n",
        "for event in events:\n",
        "    if \"messages\" in event:\n",
        "        event[\"messages\"][-1].pretty_print()"
      ],
      "metadata": {
        "colab": {
          "base_uri": "https://localhost:8080/"
        },
        "id": "VA-ZcBGU1bec",
        "outputId": "83984517-0259-4aff-f0db-6b5257d2142d"
      },
      "execution_count": null,
      "outputs": [
        {
          "output_type": "stream",
          "name": "stdout",
          "text": [
            "==================================\u001b[1m Ai Message \u001b[0m==================================\n",
            "\n",
            "It sounds like you're embarking on a journey into the world of LangGraph! To help you learn effectively, I need a little more direction.  \n",
            "\n",
            "What specifically about LangGraph are you curious about?  For example, are you interested in:\n",
            "\n",
            "* **The core concepts?**  Like how it represents text as a graph, the different types of nodes and edges, and how it uses graph algorithms for analysis?\n",
            "* **Practical applications?**  Maybe you'd like to see how it's used for semantic search, text summarization, or knowledge graph construction?\n",
            "* **Code examples and tutorials?**  Are you looking for hands-on guidance on how to build a LangGraph from text data, or how to use it for specific tasks?\n",
            "* **The latest research and advancements?**  Do you want to explore cutting-edge developments in LangGraph and its potential?\n",
            "\n",
            "Tell me more about your specific interests, and I'll do my best to provide you with helpful information and resources!\n"
          ]
        }
      ]
    },
    {
      "cell_type": "markdown",
      "source": [
        "`None` will append nothing new to the current state, letting it resume as if it had never been interrupted\n",
        "\n",
        "```bash\n",
        "events = graph.stream(None, config, stream_mode=\"values\")\n",
        "for event in events:\n",
        "    if \"messages\" in event:\n",
        "        event[\"messages\"][-1].pretty_print()\n",
        "```        "
      ],
      "metadata": {
        "id": "JzxEoLkeeeuL"
      }
    },
    {
      "cell_type": "markdown",
      "source": [
        "## Part 5: Manually Updating the State"
      ],
      "metadata": {
        "id": "5LFfceqRV2CY"
      }
    },
    {
      "cell_type": "markdown",
      "source": [
        "read the state (part 4) now write the state"
      ],
      "metadata": {
        "id": "4KDO0DY2JZ6y"
      }
    },
    {
      "cell_type": "code",
      "source": [
        "from typing import Annotated\n",
        "\n",
        "from langchain_community.tools.tavily_search import TavilySearchResults\n",
        "from typing_extensions import TypedDict\n",
        "\n",
        "from langgraph.checkpoint.memory import MemorySaver\n",
        "from langgraph.graph import StateGraph, START #, START, END\n",
        "from langgraph.graph.message import add_messages\n",
        "from langgraph.prebuilt import ToolNode, tools_condition\n",
        "\n",
        "\n",
        "# (Part 1: Basic Chatbot)\n",
        "#add_messages : append new messages to the existing list of messages in the state in the graph.\n",
        "# Define the State class with a list of messages\n",
        "class State(TypedDict):\n",
        "    messages: Annotated[list, add_messages]\n",
        "\n",
        "# (Part 1: Basic Chatbot)\n",
        "# Create a StateGraph instance with the State type\n",
        "graph_builder = StateGraph(State)\n",
        "\n",
        "# (Part 1: Basic Chatbot)\n",
        "# Create a StateGraph instance with the State type\n",
        "tool = TavilySearchResults(max_results=2)\n",
        "tools = [tool]\n",
        "\n",
        "# (Part 2: Enhancing the Chatbot with Tools)\n",
        "# Integrate LLM with bind_tools for web search\n",
        "llm_with_tools = llm.bind_tools(tools)\n",
        "\n",
        "# (Part 1: Basic Chatbot)\n",
        "# Define the chatbot function that uses the state and returns a response from the LLM\n",
        "def chatbot(state: State):\n",
        "    return {\"messages\": [llm_with_tools.invoke(state[\"messages\"])]}\n",
        "\n",
        "# (Part 1: Basic Chatbot)\n",
        "# Add the chatbot node to the graph\n",
        "graph_builder.add_node(\"chatbot\", chatbot)\n",
        "\n",
        "# (Part 2: Enhancing the Chatbot with Tools)\n",
        "# Add the tools node to the graph\n",
        "tool_node = ToolNode(tools=[tool])\n",
        "graph_builder.add_node(\"tools\", tool_node)\n",
        "\n",
        "# (Part 2: Enhancing the Chatbot with Tools)\n",
        "# Define conditional edges for the chatbot node based on tool usage\n",
        "graph_builder.add_conditional_edges(\n",
        "    \"chatbot\",\n",
        "    tools_condition,\n",
        ")\n",
        "\n",
        "# (Part 1: Basic Chatbot)\n",
        "# Any time a tool is called, we return to the chatbot to decide the next step\n",
        "graph_builder.add_edge(\"tools\", \"chatbot\")\n",
        "\n",
        "#(Part 1: Basic Chatbot)\n",
        "# Define the starting point of the graph as the chatbot node\n",
        "graph_builder.add_edge(START, \"chatbot\")\n",
        "\n",
        "# (Part 3: Adding Memory to the Chatbot)\n",
        "# Add memory saver for checkpointing\n",
        "memory = MemorySaver()\n",
        "\n",
        "# Compile the graph with memory checkpointing and interrupt configurations\n",
        "graph = graph_builder.compile(\n",
        "    checkpointer=memory,\n",
        "    # This is new! (Part 4: Human-in-the-loop)\n",
        "    # Interrupt before running tools node\n",
        "    interrupt_before=[\"tools\"],  #interrupt_before the tools node\n",
        ")\n",
        "\n",
        "# User input example\n",
        "user_input = \"I'm learning LangGraph. Could you do some research on it for me?\"\n",
        "config = {\"configurable\": {\"thread_id\": \"1\"}}\n",
        "# The config is the **second positional argument** to stream() or invoke()!\n",
        "events = graph.stream({\"messages\": [(\"user\", user_input)]}, config)\n",
        "\n",
        "# Loop through each event in the stream\n",
        "for event in events:\n",
        "    if \"messages\" in event:\n",
        "        # Print the latest message content from the event\n",
        "        event[\"messages\"][-1].pretty_print()"
      ],
      "metadata": {
        "id": "wne1KuDVmy0U"
      },
      "execution_count": null,
      "outputs": []
    },
    {
      "cell_type": "code",
      "source": [
        "# Fetch the current state of the graph for the given configuration\n",
        "\n",
        "snapshot = graph.get_state(config)  # Retrieve the current state or status of the graph\n",
        "print(\"snapshot \", snapshot)\n",
        "\n",
        "existing_message = snapshot.values[\"messages\"][-1]  # Retrieve the most recent message from the snapshot's values\n",
        "existing_message.pretty_print()   # Print the content of the most recent message"
      ],
      "metadata": {
        "colab": {
          "base_uri": "https://localhost:8080/"
        },
        "id": "NN4a-6U7u1k-",
        "outputId": "72ba38d5-c455-4155-8fda-649ff96f92b8"
      },
      "execution_count": null,
      "outputs": [
        {
          "output_type": "stream",
          "name": "stdout",
          "text": [
            "snapshot  StateSnapshot(values={'messages': [HumanMessage(content=\"I'm learning LangGraph. Could you do some research on it for me?\", additional_kwargs={}, response_metadata={}, id='7d4e299d-ae7f-466d-9df0-9f40e1a39669'), AIMessage(content='', additional_kwargs={'function_call': {'name': 'tavily_search_results_json', 'arguments': '{\"query\": \"LangGraph\"}'}}, response_metadata={'prompt_feedback': {'block_reason': 0, 'safety_ratings': []}, 'finish_reason': 'STOP', 'safety_ratings': [{'category': 'HARM_CATEGORY_HARASSMENT', 'probability': 'NEGLIGIBLE', 'blocked': False}, {'category': 'HARM_CATEGORY_DANGEROUS_CONTENT', 'probability': 'NEGLIGIBLE', 'blocked': False}, {'category': 'HARM_CATEGORY_SEXUALLY_EXPLICIT', 'probability': 'NEGLIGIBLE', 'blocked': False}, {'category': 'HARM_CATEGORY_HATE_SPEECH', 'probability': 'NEGLIGIBLE', 'blocked': False}]}, id='run-72b9cfbd-cfcf-4074-9267-53a426c23721-0', tool_calls=[{'name': 'tavily_search_results_json', 'args': {'query': 'LangGraph'}, 'id': 'ef33c946-34d0-4a5f-b454-c653d147553c', 'type': 'tool_call'}], usage_metadata={'input_tokens': 91, 'output_tokens': 21, 'total_tokens': 112, 'input_token_details': {'cache_read': 0}})]}, next=('tools',), config={'configurable': {'thread_id': '1', 'checkpoint_ns': '', 'checkpoint_id': '1ef9ea20-f3c4-6e63-8001-1ce8c018e2de'}}, metadata={'source': 'loop', 'writes': {'chatbot': {'messages': [AIMessage(content='', additional_kwargs={'function_call': {'name': 'tavily_search_results_json', 'arguments': '{\"query\": \"LangGraph\"}'}}, response_metadata={'prompt_feedback': {'block_reason': 0, 'safety_ratings': []}, 'finish_reason': 'STOP', 'safety_ratings': [{'category': 'HARM_CATEGORY_HARASSMENT', 'probability': 'NEGLIGIBLE', 'blocked': False}, {'category': 'HARM_CATEGORY_DANGEROUS_CONTENT', 'probability': 'NEGLIGIBLE', 'blocked': False}, {'category': 'HARM_CATEGORY_SEXUALLY_EXPLICIT', 'probability': 'NEGLIGIBLE', 'blocked': False}, {'category': 'HARM_CATEGORY_HATE_SPEECH', 'probability': 'NEGLIGIBLE', 'blocked': False}]}, id='run-72b9cfbd-cfcf-4074-9267-53a426c23721-0', tool_calls=[{'name': 'tavily_search_results_json', 'args': {'query': 'LangGraph'}, 'id': 'ef33c946-34d0-4a5f-b454-c653d147553c', 'type': 'tool_call'}], usage_metadata={'input_tokens': 91, 'output_tokens': 21, 'total_tokens': 112, 'input_token_details': {'cache_read': 0}})]}}, 'thread_id': '1', 'step': 1, 'parents': {}}, created_at='2024-11-09T13:53:54.927550+00:00', parent_config={'configurable': {'thread_id': '1', 'checkpoint_ns': '', 'checkpoint_id': '1ef9ea20-f0b4-6f56-8000-5c35ad83d8b0'}}, tasks=(PregelTask(id='1d60bd31-c637-1aee-eab4-d72506ea584f', name='tools', path=('__pregel_pull', 'tools'), error=None, interrupts=(), state=None, result=None),))\n",
            "==================================\u001b[1m Ai Message \u001b[0m==================================\n",
            "Tool Calls:\n",
            "  tavily_search_results_json (ef33c946-34d0-4a5f-b454-c653d147553c)\n",
            " Call ID: ef33c946-34d0-4a5f-b454-c653d147553c\n",
            "  Args:\n",
            "    query: LangGraph\n"
          ]
        }
      ]
    },
    {
      "cell_type": "markdown",
      "source": [
        "**Note**\n",
        "query: LangGraph,  \n",
        "now update the query before go to the tool\n",
        "\n",
        "Save the state new_messages[-1]\n",
        "than update state `graph.get_state(config).values[\"messages\"][-2:]`\n",
        "\n",
        "```bash\n",
        "new_messages = [\n",
        " ToolMessage(content=answer, tool_call_id=existing_message.tool_calls[0][\"id\"]),  AIMessage(content=answer),\n",
        "]\n",
        "\n",
        "new_messages[-1].pretty_print()\n",
        "graph.update_state( config, {\"messages\": new_messages},)\n",
        "```"
      ],
      "metadata": {
        "id": "_my7qRZqQ6y2"
      }
    },
    {
      "cell_type": "code",
      "source": [
        "from langchain_core.messages import AIMessage, ToolMessage\n",
        "\n",
        "tavily_answer = (\n",
        "    \"LangGraph is a library for building stateful, multi-actor applications with LLMs.\"\n",
        ")\n",
        "\n",
        "new_messages = [\n",
        "    # The LLM API expects some ToolMessage to match its tool call. We'll satisfy that here.\n",
        "    ToolMessage(content=tavily_answer, tool_call_id=existing_message.tool_calls[0][\"id\"]),\n",
        "    # And then directly \"put words in the LLM's mouth\" by populating its response.\n",
        "    AIMessage(content=tavily_answer),\n",
        "]\n",
        "\n",
        "print(\"new messages \", new_messages)\n",
        "\n",
        "new_messages[-1].pretty_print()\n",
        "\n",
        "# update state: pose graph and update state\n",
        "graph.update_state(\n",
        "    # Which state to update\n",
        "    config,\n",
        "    # The updated values to provide. The messages in our `State` are \"append-only\", meaning this will be appended\n",
        "    # to the existing state. We will review how to update existing messages in the next section!\n",
        "    {\"messages\": new_messages},\n",
        ")\n",
        "\n",
        "print(\"\\n\\nLast 2 messages; - get the state after update\")\n",
        "print(graph.get_state(config).values[\"messages\"][-2:])"
      ],
      "metadata": {
        "colab": {
          "base_uri": "https://localhost:8080/"
        },
        "id": "ACIdpsf1ajEj",
        "outputId": "b4428805-c6e5-4f53-8792-a1ca436e675d"
      },
      "execution_count": null,
      "outputs": [
        {
          "output_type": "stream",
          "name": "stdout",
          "text": [
            "new messages  [ToolMessage(content='LangGraph is a library for building stateful, multi-actor applications with LLMs.', tool_call_id='ef33c946-34d0-4a5f-b454-c653d147553c'), AIMessage(content='LangGraph is a library for building stateful, multi-actor applications with LLMs.', additional_kwargs={}, response_metadata={})]\n",
            "==================================\u001b[1m Ai Message \u001b[0m==================================\n",
            "\n",
            "LangGraph is a library for building stateful, multi-actor applications with LLMs.\n",
            "\n",
            "\n",
            "Last 2 messages; - get the state after update\n",
            "[ToolMessage(content='LangGraph is a library for building stateful, multi-actor applications with LLMs.', id='718af78a-3b35-41b5-a12b-1090b76d0be2', tool_call_id='ef33c946-34d0-4a5f-b454-c653d147553c'), AIMessage(content='LangGraph is a library for building stateful, multi-actor applications with LLMs.', additional_kwargs={}, response_metadata={}, id='02842b3c-8131-4770-8652-68abe9c4cf46')]\n"
          ]
        }
      ]
    },
    {
      "cell_type": "code",
      "source": [
        "# update state and define node to restart update state\n",
        "graph.update_state(\n",
        "    config,\n",
        "    {\"messages\": [AIMessage(content=\"I'm an AI expert!\")]},  # define state\n",
        "    # Which node for this function to act as. It will automatically continue\n",
        "    # processing as if this node just ran.\n",
        "     as_node=\"chatbot\",  # define node to restart after update state\n",
        ")"
      ],
      "metadata": {
        "colab": {
          "base_uri": "https://localhost:8080/"
        },
        "id": "1ydX_IJ2ayLb",
        "outputId": "3402b8d9-fc90-4b10-c2f8-3dc97e9e6f12"
      },
      "execution_count": null,
      "outputs": [
        {
          "output_type": "execute_result",
          "data": {
            "text/plain": [
              "{'configurable': {'thread_id': '1',\n",
              "  'checkpoint_ns': '',\n",
              "  'checkpoint_id': '1ef9eaa7-ef8c-6394-8003-6e6cf824a6d8'}}"
            ]
          },
          "metadata": {},
          "execution_count": 11
        }
      ]
    },
    {
      "cell_type": "markdown",
      "source": [
        "**Visualize the graph**"
      ],
      "metadata": {
        "id": "n-qKmM9aey2L"
      }
    },
    {
      "cell_type": "code",
      "source": [
        "from IPython.display import Image, display\n",
        "\n",
        "try:\n",
        "    display(Image(graph.get_graph().draw_mermaid_png()))\n",
        "except Exception:\n",
        "    # This requires some extra dependencies and is optional\n",
        "    pass"
      ],
      "metadata": {
        "colab": {
          "base_uri": "https://localhost:8080/",
          "height": 308
        },
        "id": "WWRixsUuex0F",
        "outputId": "0a1da6d5-e61c-48f0-f13f-aa358737f9b6"
      },
      "execution_count": null,
      "outputs": [
        {
          "output_type": "display_data",
          "data": {
            "image/jpeg": "[encoded data removed]",
            "text/plain": [
              "<IPython.core.display.Image object>"
            ]
          },
          "metadata": {}
        }
      ]
    },
    {
      "cell_type": "markdown",
      "source": [
        "**overwrite existing messages**"
      ],
      "metadata": {
        "id": "3M_WsWh3fL-G"
      }
    },
    {
      "cell_type": "code",
      "source": [
        "user_input = \"I'm learning LangGraph. Could you do some research on it for me?\"\n",
        "config = {\"configurable\": {\"thread_id\": \"2\"}}  # we'll use thread_id = 2 here\n",
        "events = graph.stream(\n",
        "    {\"messages\": [(\"user\", user_input)]}, config, stream_mode=\"values\"\n",
        ")\n",
        "for event in events:\n",
        "    if \"messages\" in event:\n",
        "        event[\"messages\"][-1].pretty_print()"
      ],
      "metadata": {
        "colab": {
          "base_uri": "https://localhost:8080/"
        },
        "id": "nr4F5ZqWfMnc",
        "outputId": "a9b9f6a0-747c-4f5b-8d43-754981fbc323"
      },
      "execution_count": null,
      "outputs": [
        {
          "output_type": "stream",
          "name": "stdout",
          "text": [
            "================================\u001b[1m Human Message \u001b[0m=================================\n",
            "\n",
            "I'm learning LangGraph. Could you do some research on it for me?\n",
            "==================================\u001b[1m Ai Message \u001b[0m==================================\n",
            "Tool Calls:\n",
            "  tavily_search_results_json (7727f54c-68a3-4c3c-9ef4-928a248d8f90)\n",
            " Call ID: 7727f54c-68a3-4c3c-9ef4-928a248d8f90\n",
            "  Args:\n",
            "    query: LangGraph\n"
          ]
        }
      ]
    },
    {
      "cell_type": "markdown",
      "source": [
        "**Next,** let's update the tool invocation for our agent. Maybe we want to search for human-in-the-loop workflows in particular."
      ],
      "metadata": {
        "id": "cwjMPY4HiKCW"
      }
    },
    {
      "cell_type": "code",
      "source": [
        "from langchain_core.messages import AIMessage\n",
        "\n",
        "snapshot = graph.get_state(config)\n",
        "existing_message = snapshot.values[\"messages\"][-1]\n",
        "print(\"Original - existing_message\" , existing_message)\n",
        "print(\"\\nMessage ID\", existing_message.id)\n",
        "print(\"\\nExisting_message : \",existing_message.tool_calls[0])\n",
        "\n",
        "new_tool_call = existing_message.tool_calls[0].copy()\n",
        "new_tool_call[\"args\"][\"query\"] = \"LangGraph human-in-the-loop workflow\"\n",
        "new_message = AIMessage(\n",
        "    content=existing_message.content,\n",
        "    tool_calls=[new_tool_call],\n",
        "    # Important! The ID is how LangGraph knows to REPLACE the message in the state rather than APPEND this messages\n",
        "    id=existing_message.id,\n",
        ")\n",
        "\n",
        "print(\"\\nUpdated \")\n",
        "print(new_message.tool_calls[0])\n",
        "print(\"\\nMessage ID\", new_message.id)\n",
        "\n",
        "graph.update_state(config, {\"messages\": [new_message]})\n",
        "\n",
        "print(\"\\n\\nTool calls\")\n",
        "graph.get_state(config).values[\"messages\"][-1].tool_calls"
      ],
      "metadata": {
        "colab": {
          "base_uri": "https://localhost:8080/"
        },
        "id": "J-X2VmPCiLkP",
        "outputId": "aceeb5f1-bb5f-41be-a01b-7b1c8d97eb92"
      },
      "execution_count": null,
      "outputs": [
        {
          "output_type": "stream",
          "name": "stdout",
          "text": [
            "Original - existing_message content='' additional_kwargs={'function_call': {'name': 'tavily_search_results_json', 'arguments': '{\"query\": \"LangGraph\"}'}} response_metadata={'prompt_feedback': {'block_reason': 0, 'safety_ratings': []}, 'finish_reason': 'STOP', 'safety_ratings': [{'category': 'HARM_CATEGORY_SEXUALLY_EXPLICIT', 'probability': 'NEGLIGIBLE', 'blocked': False}, {'category': 'HARM_CATEGORY_DANGEROUS_CONTENT', 'probability': 'NEGLIGIBLE', 'blocked': False}, {'category': 'HARM_CATEGORY_HARASSMENT', 'probability': 'NEGLIGIBLE', 'blocked': False}, {'category': 'HARM_CATEGORY_HATE_SPEECH', 'probability': 'NEGLIGIBLE', 'blocked': False}]} id='run-3d350f1f-6331-4885-a20e-6614125adcbc-0' tool_calls=[{'name': 'tavily_search_results_json', 'args': {'query': 'LangGraph'}, 'id': '7727f54c-68a3-4c3c-9ef4-928a248d8f90', 'type': 'tool_call'}] usage_metadata={'input_tokens': 91, 'output_tokens': 21, 'total_tokens': 112, 'input_token_details': {'cache_read': 0}}\n",
            "\n",
            "Message ID run-3d350f1f-6331-4885-a20e-6614125adcbc-0\n",
            "\n",
            "Existing_message :  {'name': 'tavily_search_results_json', 'args': {'query': 'LangGraph'}, 'id': '7727f54c-68a3-4c3c-9ef4-928a248d8f90', 'type': 'tool_call'}\n",
            "\n",
            "Updated \n",
            "{'name': 'tavily_search_results_json', 'args': {'query': 'LangGraph human-in-the-loop workflow'}, 'id': '7727f54c-68a3-4c3c-9ef4-928a248d8f90', 'type': 'tool_call'}\n",
            "\n",
            "Message ID run-3d350f1f-6331-4885-a20e-6614125adcbc-0\n",
            "\n",
            "\n",
            "Tool calls\n"
          ]
        },
        {
          "output_type": "execute_result",
          "data": {
            "text/plain": [
              "[{'name': 'tavily_search_results_json',\n",
              "  'args': {'query': 'LangGraph human-in-the-loop workflow'},\n",
              "  'id': '7727f54c-68a3-4c3c-9ef4-928a248d8f90',\n",
              "  'type': 'tool_call'}]"
            ]
          },
          "metadata": {},
          "execution_count": 14
        }
      ]
    },
    {
      "cell_type": "markdown",
      "source": [
        "# Part 6: Customizing State"
      ],
      "metadata": {
        "id": "xvLRJ3WGmUZ5"
      }
    },
    {
      "cell_type": "markdown",
      "source": [
        "\n",
        "\n",
        "**add_messages** : append new messages to the existing list of messages in the state in the graph.\n",
        "Define the State class with a list of messages\n",
        "```bash\n",
        "class State(TypedDict):\n",
        "    messages: Annotated[list, add_messages]\n",
        "    ask_human: bool\n",
        "```\n",
        "\n",
        "(Part 6: Customizing State)\n",
        "\n",
        "**`ask_human: bool`** flag indicates whether only a human can give instructions, true means only a human can give instructions\n",
        "\n",
        "Bind the llm to a tool definition, a pydantic model, or a json schema\n",
        "```bash\n",
        "llm_with_tools = llm.bind_tools(tools + [RequestAssistance])\n",
        "```\n",
        "**`[RequestAssistance]`**  human use RequestAssistance Schema\n",
        "\n",
        "Now llm triger both Tool and RequestAssistance Schema"
      ],
      "metadata": {
        "id": "puNz164DnjUW"
      }
    },
    {
      "cell_type": "code",
      "source": [
        "# Import necessary modules\n",
        "from langgraph.graph import START, END, StateGraph  # Import START and StateGraph for building the graph\n",
        "from langgraph.prebuilt import tools_condition, ToolNode  # Import tools_condition and ToolNode\n",
        "\n",
        "#from langgraph.graph.state import CompiledStateGraph  # Import CompiledStateGraph for compiling the graph\n",
        "\n",
        "from typing import Annotated\n",
        "from langchain_community.tools.tavily_search import TavilySearchResults\n",
        "from langchain_core.messages import BaseMessage, AIMessage , ToolMessage\n",
        "\n",
        "from pydantic import BaseModel\n",
        "from typing_extensions import TypedDict\n",
        "from langgraph.checkpoint.memory import MemorySaver\n",
        "\n",
        "from langgraph.graph.message import add_messages\n",
        "\n",
        "\n",
        "# STEP 1\n",
        "# (Part 1 : Basic Chatbot)\n",
        "# add_messages: Append new messages to the existing list of messages in the state in the graph.\n",
        "# Define the State class with a list of messages\n",
        "class State(TypedDict):\n",
        "    messages: Annotated[list, add_messages]\n",
        "    # This flag indicates whether only a human can give instructions\n",
        "    ask_human: bool   # (Part 6) True means only a human can give instructions\n",
        "\n",
        "# STEP 2\n",
        "class RequestAssistance(BaseModel):\n",
        "    \"\"\"Escalate the conversation to an expert. Use this if you are unable to assist directly or if the user requires support beyond your permissions.\n",
        "\n",
        "    To use this function, relay the user's 'request' so the expert can provide the right guidance.\n",
        "    \"\"\"\n",
        "    request: str\n",
        "\n",
        "# STEP 3\n",
        "tool = TavilySearchResults(max_results=2)\n",
        "tools = [tool]\n",
        "\n",
        "# Bind the LLM (Large Language Model) to a tool definition, a pydantic model, or a JSON schema\n",
        "# Now the LLM is capable of triggering both the Tool and the RequestAssistance Schema\n",
        "llm_with_tools = llm.bind_tools(tools + [RequestAssistance])\n",
        "\n",
        "# STEP 4 :-  default ask_human = False, LLM tells it is flase or true\n",
        "# Define the chatbot node with modification of ask_human flag\n",
        "# if response call tool_call then ask_human = true then it routes human route\n",
        "# Define the chatbot function which uses the bound LLM and tools\n",
        "def chatbot(state: State):\n",
        "    # Invoke the LLM with the state messages\n",
        "    response = llm_with_tools.invoke(state[\"messages\"])\n",
        "    ask_human = False       # by default ask_human = False\n",
        "    # Check if the response includes tool calls and if the first tool call is for RequestAssistance\n",
        "    if (\n",
        "        response.tool_calls\n",
        "        and response.tool_calls[0][\"name\"] == RequestAssistance.__name__\n",
        "    ):\n",
        "        ask_human = True\n",
        "    # Return the updated state with the response and ask_human flag\n",
        "    return {\"messages\": [response], \"ask_human\": ask_human}\n",
        "\n",
        "# STEP 5 :- create chatbot and tool node\n",
        "# Create the graph builder and add the chatbot and tools nodes to the graph, same as before.\n",
        "graph_builder = StateGraph(State)\n",
        "\n",
        "# Add the chatbot node to the state graph\n",
        "graph_builder.add_node(\"chatbot\", chatbot)\n",
        "\n",
        "# Add the tools node to the state graph with the specified tool\n",
        "graph_builder.add_node(\"tools\", ToolNode(tools=[tool]))\n",
        "\n",
        "# STEP 6 :- create human node\n",
        "def create_response(response: str, ai_message: AIMessage):\n",
        "    return ToolMessage(\n",
        "        content=response,\n",
        "        tool_call_id=ai_message.tool_calls[0][\"id\"],\n",
        "    )\n",
        "\n",
        "# First create helper function for human_node functionality\n",
        "def human_node(state: State):\n",
        "    new_messages = []    # Create dictionary\n",
        "    # Check if the last message from state is from ToolMessage\n",
        "    if not isinstance(state[\"messages\"][-1], ToolMessage):\n",
        "        # Typically, the user will have updated the state during the interrupt.\n",
        "        # If they choose not to, we will include a placeholder ToolMessage to let the LLM continue.\n",
        "        # If the last message from state is not from ToolMessage\n",
        "        # then append the generic response, No response from human.\n",
        "        # Human node triggered but did not get the response.\n",
        "        new_messages.append(\n",
        "            create_response(\"No response from human.\", state[\"messages\"][-1])\n",
        "        )\n",
        "    return {\n",
        "        # Append the new messages\n",
        "        \"messages\": new_messages,\n",
        "        # Unset the flag\n",
        "        \"ask_human\": False, # To protect from infinite loop if no response from human\n",
        "    }\n",
        "\n",
        "# Add the human node to the state graph and pass human_node function\n",
        "graph_builder.add_node(\"human\", human_node)\n",
        "\n",
        "# STEP 7 :- conditional logic\n",
        "# When chatbot triggers for human: if ask_human is true, return human\n",
        "def select_next_node(state: State):\n",
        "    if state[\"ask_human\"]:\n",
        "        return \"human\"\n",
        "    # Otherwise, route as before\n",
        "    return tools_condition(state)\n",
        "\n",
        "graph_builder.add_conditional_edges(\n",
        "    \"chatbot\",\n",
        "    select_next_node,\n",
        "    {\"human\": \"human\", \"tools\": \"tools\", END: END},\n",
        ")\n",
        "\n",
        "# STEP 8 :\n",
        "# The rest is the same\n",
        "graph_builder.add_edge(\"tools\", \"chatbot\")\n",
        "graph_builder.add_edge(\"human\", \"chatbot\")\n",
        "graph_builder.add_edge(START, \"chatbot\")\n",
        "memory = MemorySaver()\n",
        "graph = graph_builder.compile(\n",
        "    checkpointer=memory,\n",
        "    # We interrupt before 'human' here instead.\n",
        "    interrupt_before=[\"human\"],\n",
        ")\n"
      ],
      "metadata": {
        "id": "RSjhvXDtIiRh"
      },
      "execution_count": 38,
      "outputs": []
    },
    {
      "cell_type": "markdown",
      "source": [
        "**Visualize the graph**"
      ],
      "metadata": {
        "id": "pGoLzpciMw5r"
      }
    },
    {
      "cell_type": "code",
      "source": [
        "from IPython.display import Image, display  # Import IPython display classe\n",
        "\n",
        "try:\n",
        "    display(Image(graph.get_graph().draw_mermaid_png()))\n",
        "except Exception:\n",
        "    # This requires some extra dependencies and is optional\n",
        "    pass"
      ],
      "metadata": {
        "colab": {
          "base_uri": "https://localhost:8080/",
          "height": 308
        },
        "id": "6pmhsTk7MUg2",
        "outputId": "17dcbb0b-1683-4d3e-9d69-7453aa03020b"
      },
      "execution_count": 24,
      "outputs": [
        {
          "output_type": "display_data",
          "data": {
            "image/png": "[encoded data removed]",
            "text/plain": [
              "<IPython.core.display.Image object>"
            ]
          },
          "metadata": {}
        }
      ]
    },
    {
      "cell_type": "markdown",
      "source": [
        "Let's see this graph in action."
      ],
      "metadata": {
        "id": "5FfJoBAZ7W2V"
      }
    },
    {
      "cell_type": "code",
      "source": [
        "# user_input = \"I need some expert guidance for building this AI agent. Could you request assistance for me?\"\n",
        "# config = {\"configurable\": {\"thread_id\": \"1\"}}\n",
        "# # The config is the **second positional argument** to stream() or invoke()!\n",
        "# events = graph.stream(\n",
        "#     {\"messages\": [(\"user\", user_input)]}, config, stream_mode=\"values\"\n",
        "# )\n",
        "# for event in events:\n",
        "#     if \"messages\" in event:\n",
        "#         event[\"messages\"][-1].pretty_print()"
      ],
      "metadata": {
        "id": "oK16GWwL7YON"
      },
      "execution_count": 11,
      "outputs": []
    },
    {
      "cell_type": "code",
      "source": [
        "# User input message\n",
        "user_input = \"I need some expert guidance for building this AI agent. Could you request assistance for me?\"\n",
        "\n",
        "# Configuration dictionary specifying the thread ID\n",
        "config = {\"configurable\": {\"thread_id\": \"1\"}}\n",
        "\n",
        "# The config is the **second positional argument** to stream() or invoke()!\n",
        "# Stream the events from the graph using the provided user input and configuration\n",
        "events = graph.stream(\n",
        "    {\"messages\": [(\"user\", user_input)]}, config, stream_mode=\"values\"\n",
        ")\n",
        "\n",
        "# Iterate through the returned events\n",
        "for event in events:\n",
        "    # Check if the event contains messages\n",
        "    if \"messages\" in event:\n",
        "        # Print the last message in the event in a formatted manner\n",
        "        event[\"messages\"][-1].pretty_print()\n"
      ],
      "metadata": {
        "colab": {
          "base_uri": "https://localhost:8080/"
        },
        "id": "JKyCgSsAhb3_",
        "outputId": "7ddd419b-8879-436a-b4e1-dfd1fb098365"
      },
      "execution_count": 39,
      "outputs": [
        {
          "output_type": "stream",
          "name": "stdout",
          "text": [
            "================================\u001b[1m Human Message \u001b[0m=================================\n",
            "\n",
            "I need some expert guidance for building this AI agent. Could you request assistance for me?\n",
            "==================================\u001b[1m Ai Message \u001b[0m==================================\n",
            "Tool Calls:\n",
            "  RequestAssistance (e5dd48ee-ae77-45b9-a906-83e7b8cdc0ef)\n",
            " Call ID: e5dd48ee-ae77-45b9-a906-83e7b8cdc0ef\n",
            "  Args:\n",
            "    request: I need some expert guidance for building this AI agent.\n"
          ]
        }
      ]
    },
    {
      "cell_type": "markdown",
      "source": [
        "**Notice:** the LLM has invoked the \"`RequestAssistance`\" tool we provided it, and the interrupt has been set. Let's inspect the graph state to confirm."
      ],
      "metadata": {
        "id": "ELZB0ODQMezI"
      }
    },
    {
      "cell_type": "code",
      "source": [
        "#inspect the graph state to confirm it worked.\n",
        "snapshot = graph.get_state(config)  # Retrieve the current state of the graph\n",
        "snapshot.next   # Retrieve the next node that will execute in the graph"
      ],
      "metadata": {
        "colab": {
          "base_uri": "https://localhost:8080/"
        },
        "id": "W7EBcuUtMf8B",
        "outputId": "e27f5f64-3900-4251-ba19-2e5be330303b"
      },
      "execution_count": 40,
      "outputs": [
        {
          "output_type": "execute_result",
          "data": {
            "text/plain": [
              "('human',)"
            ]
          },
          "metadata": {},
          "execution_count": 40
        }
      ]
    },
    {
      "cell_type": "markdown",
      "source": [
        "The graph state is indeed **interrupted** before the `'human'` node. We can act as the \"expert\" in this scenario and manually update the state by adding a new ToolMessage with our input.\n",
        "\n",
        "Next, respond to the chatbot's request by:\n",
        "1. Creating a `ToolMessage` with our response. This will be passed back to the `chatbot`.\n",
        "2. Calling `update_state` to manually update the graph state."
      ],
      "metadata": {
        "id": "MpfGu8nGPSlh"
      }
    },
    {
      "cell_type": "code",
      "source": [
        "# Get the last AI message from the snapshot values\n",
        "ai_message = snapshot.values[\"messages\"][-1]\n",
        "\n",
        "# Prepare the human response message\n",
        "human_response = (\n",
        "    \"We, the experts, are here to help! We'd recommend you check out LangGraph to build your agent.\"\n",
        "    \" It's much more reliable and extensible than simple autonomous agents.\"\n",
        ")\n",
        "\n",
        "# Create a tool message using the human response and AI message\n",
        "tool_message = create_response(human_response, ai_message)\n",
        "\n",
        "# Update the graph state with the new tool message using the specified configuration\n",
        "graph.update_state(config, {\"messages\": [tool_message]})\n"
      ],
      "metadata": {
        "colab": {
          "base_uri": "https://localhost:8080/"
        },
        "id": "6_bIMVhKkNDb",
        "outputId": "bcd19676-e0df-411a-8f59-3db6c398afa2"
      },
      "execution_count": 41,
      "outputs": [
        {
          "output_type": "execute_result",
          "data": {
            "text/plain": [
              "{'configurable': {'thread_id': '1',\n",
              "  'checkpoint_ns': '',\n",
              "  'checkpoint_id': '1efa457b-f77a-62f7-8002-03301471984b'}}"
            ]
          },
          "metadata": {},
          "execution_count": 41
        }
      ]
    },
    {
      "cell_type": "markdown",
      "source": [
        "Next, **resume** the graph by invoking it with `None` as the inputs."
      ],
      "metadata": {
        "id": "HtpGKzOuYoVM"
      }
    },
    {
      "cell_type": "code",
      "source": [
        "# Stream the events from the graph using the provided configuration\n",
        "events = graph.stream(None, config, stream_mode=\"values\")\n",
        "for event in events:\n",
        "    if \"messages\" in event:\n",
        "        event[\"messages\"][-1].pretty_print()"
      ],
      "metadata": {
        "colab": {
          "base_uri": "https://localhost:8080/"
        },
        "id": "JjRBSSNeYjM9",
        "outputId": "5e08b969-1943-4b9b-82c1-a676c3e87f3d"
      },
      "execution_count": 42,
      "outputs": [
        {
          "output_type": "stream",
          "name": "stdout",
          "text": [
            "=================================\u001b[1m Tool Message \u001b[0m=================================\n",
            "\n",
            "We, the experts, are here to help! We'd recommend you check out LangGraph to build your agent. It's much more reliable and extensible than simple autonomous agents.\n",
            "=================================\u001b[1m Tool Message \u001b[0m=================================\n",
            "\n",
            "We, the experts, are here to help! We'd recommend you check out LangGraph to build your agent. It's much more reliable and extensible than simple autonomous agents.\n",
            "==================================\u001b[1m Ai Message \u001b[0m==================================\n",
            "\n",
            "OK. I've requested assistance from an expert.  They recommend checking out LangGraph for building your AI agent, as it's more reliable and extensible than simpler agents.\n"
          ]
        }
      ]
    },
    {
      "cell_type": "markdown",
      "source": [
        "## Part 7: Time Travel"
      ],
      "metadata": {
        "id": "A8CTRj-4ZWHe"
      }
    },
    {
      "cell_type": "code",
      "source": [
        "from typing import Annotated, Literal\n",
        "\n",
        "from langchain_community.tools.tavily_search import TavilySearchResults\n",
        "from langchain_core.messages import AIMessage, ToolMessage\n",
        "\n",
        "from pydantic import BaseModel\n",
        "from typing_extensions import TypedDict\n",
        "\n",
        "from langgraph.checkpoint.memory import MemorySaver\n",
        "from langgraph.graph import StateGraph,  START, END\n",
        "from langgraph.graph.message import add_messages\n",
        "from langgraph.prebuilt import ToolNode, tools_condition\n",
        "\n",
        "\n",
        "class State(TypedDict):\n",
        "    messages: Annotated[list, add_messages]\n",
        "    # This flag is new\n",
        "    ask_human: bool\n",
        "\n",
        "\n",
        "class RequestAssistance(BaseModel):\n",
        "    \"\"\"Escalate the conversation to an expert. Use this if you are unable to assist directly or if the user requires support beyond your permissions.\n",
        "\n",
        "    To use this function, relay the user's 'request' so the expert can provide the right guidance.\n",
        "    \"\"\"\n",
        "\n",
        "    request: str\n",
        "\n",
        "\n",
        "tool = TavilySearchResults(max_results=2)\n",
        "tools = [tool]\n",
        "\n",
        "# We can bind the llm to a tool definition, a pydantic model, or a json schema\n",
        "llm_with_tools = llm.bind_tools(tools + [RequestAssistance])\n",
        "\n",
        "\n",
        "def chatbot(state: State):\n",
        "    response = llm_with_tools.invoke(state[\"messages\"])\n",
        "    ask_human = False\n",
        "    if (\n",
        "        response.tool_calls\n",
        "        and response.tool_calls[0][\"name\"] == RequestAssistance.__name__\n",
        "    ):\n",
        "        ask_human = True\n",
        "    return {\"messages\": [response], \"ask_human\": ask_human}\n",
        "\n",
        "\n",
        "graph_builder = StateGraph(State)\n",
        "\n",
        "graph_builder.add_node(\"chatbot\", chatbot)\n",
        "graph_builder.add_node(\"tools\", ToolNode(tools=[tool]))\n",
        "\n",
        "\n",
        "def create_response(response: str, ai_message: AIMessage):\n",
        "    return ToolMessage(\n",
        "        content=response,\n",
        "        tool_call_id=ai_message.tool_calls[0][\"id\"],\n",
        "    )\n",
        "\n",
        "\n",
        "def human_node(state: State):\n",
        "    new_messages = []\n",
        "    if not isinstance(state[\"messages\"][-1], ToolMessage):\n",
        "        # Typically, the user will have updated the state during the interrupt.\n",
        "        # If they choose not to, we will include a placeholder ToolMessage to\n",
        "        # let the LLM continue.\n",
        "        new_messages.append(\n",
        "            create_response(\"No response from human.\", state[\"messages\"][-1])\n",
        "        )\n",
        "    return {\n",
        "        # Append the new messages\n",
        "        \"messages\": new_messages,\n",
        "        # Unset the flag\n",
        "        \"ask_human\": False,\n",
        "    }\n",
        "\n",
        "\n",
        "graph_builder.add_node(\"human\", human_node)\n",
        "\n",
        "\n",
        "def select_next_node(state: State):\n",
        "    if state[\"ask_human\"]:\n",
        "        return \"human\"\n",
        "    # Otherwise, we can route as before\n",
        "    return tools_condition(state)\n",
        "\n",
        "\n",
        "graph_builder.add_conditional_edges(\n",
        "    \"chatbot\",\n",
        "    select_next_node,\n",
        "    {\"human\": \"human\", \"tools\": \"tools\", END: END},\n",
        ")\n",
        "\n",
        "graph_builder.add_edge(\"tools\", \"chatbot\")\n",
        "graph_builder.add_edge(\"human\", \"chatbot\")\n",
        "graph_builder.add_edge(START, \"chatbot\")\n",
        "memory = MemorySaver()\n",
        "graph = graph_builder.compile(\n",
        "    checkpointer=memory,\n",
        "    interrupt_before=[\"human\"],\n",
        ")"
      ],
      "metadata": {
        "id": "ERhvpaEvZVQf"
      },
      "execution_count": null,
      "outputs": []
    },
    {
      "cell_type": "code",
      "source": [
        "from IPython.display import Image, display\n",
        "\n",
        "try:\n",
        "    display(Image(graph.get_graph().draw_mermaid_png()))\n",
        "except Exception:\n",
        "    # This requires some extra dependencies and is optional\n",
        "    pass"
      ],
      "metadata": {
        "colab": {
          "base_uri": "https://localhost:8080/",
          "height": 308
        },
        "id": "UMC4jjUrundo",
        "outputId": "e48de8a5-fdcd-4334-c9c9-23829079e46d"
      },
      "execution_count": null,
      "outputs": [
        {
          "output_type": "display_data",
          "data": {
            "image/jpeg": "[encoded data removed]",
            "text/plain": [
              "<IPython.core.display.Image object>"
            ]
          },
          "metadata": {}
        }
      ]
    },
    {
      "cell_type": "markdown",
      "source": [
        "\n",
        "Let's have our graph take a couple steps. Every step will be checkpointed in its state history:"
      ],
      "metadata": {
        "id": "DtFiZukvvWL4"
      }
    },
    {
      "cell_type": "code",
      "source": [
        "config = {\"configurable\": {\"thread_id\": \"1\"}}\n",
        "events = graph.stream(\n",
        "    {\n",
        "        \"messages\": [\n",
        "            (\"user\", \"I'm learning LangGraph. Could you do some research on it for me?\")\n",
        "        ]\n",
        "    },\n",
        "    config,\n",
        "    stream_mode=\"values\",\n",
        ")\n",
        "for event in events:\n",
        "    if \"messages\" in event:\n",
        "        event[\"messages\"][-1].pretty_print()"
      ],
      "metadata": {
        "colab": {
          "base_uri": "https://localhost:8080/"
        },
        "id": "q2zq6JK-vcgH",
        "outputId": "bd4071ea-fc4d-46cd-c070-f77178997655"
      },
      "execution_count": null,
      "outputs": [
        {
          "output_type": "stream",
          "name": "stdout",
          "text": [
            "================================\u001b[1m Human Message \u001b[0m=================================\n",
            "\n",
            "I'm learning LangGraph. Could you do some research on it for me?\n",
            "==================================\u001b[1m Ai Message \u001b[0m==================================\n",
            "Tool Calls:\n",
            "  tavily_search_results_json (784e9069-f9f0-4af8-b9e8-7c2377f854ff)\n",
            " Call ID: 784e9069-f9f0-4af8-b9e8-7c2377f854ff\n",
            "  Args:\n",
            "    query: LangGraph\n",
            "=================================\u001b[1m Tool Message \u001b[0m=================================\n",
            "Name: tavily_search_results_json\n",
            "\n",
            "[{\"url\": \"https://langchain-ai.github.io/langgraph/\", \"content\": \"LangGraph is a framework for creating stateful, multi-actor applications with LLMs, using cycles, controllability, and persistence. Learn how to use LangGraph with LangChain, LangSmith, and Anthropic tools to build agent and multi-agent workflows.\"}, {\"url\": \"https://www.datacamp.com/tutorial/langgraph-tutorial\", \"content\": \"LangGraph is a library within the LangChain ecosystem that simplifies the development of complex, multi-agent large language model (LLM) applications. Learn how to use LangGraph to create stateful, flexible, and scalable systems with nodes, edges, and state management.\"}]\n",
            "==================================\u001b[1m Ai Message \u001b[0m==================================\n",
            "\n",
            "LangGraph is a framework for creating stateful, multi-actor applications with LLMs. It uses cycles, controllability, and persistence to build agent and multi-agent workflows. You can use it with LangChain, LangSmith, and Anthropic tools. \n",
            "\n",
            "It simplifies the development of complex, multi-agent LLM applications. You can create stateful, flexible, and scalable systems with nodes, edges, and state management.\n"
          ]
        }
      ]
    },
    {
      "cell_type": "code",
      "source": [
        "events = graph.stream(\n",
        "    {\n",
        "        \"messages\": [\n",
        "            (\"user\", \"Ya that's helpful. Maybe I'll build an autonomous agent with it!\")\n",
        "        ]\n",
        "    },\n",
        "    config,\n",
        "    stream_mode=\"values\",\n",
        ")\n",
        "for event in events:\n",
        "    if \"messages\" in event:\n",
        "        event[\"messages\"][-1].pretty_print()"
      ],
      "metadata": {
        "colab": {
          "base_uri": "https://localhost:8080/"
        },
        "id": "tVg53B53vqEC",
        "outputId": "0539cf2f-b611-495a-fdd8-a66a2f414336"
      },
      "execution_count": null,
      "outputs": [
        {
          "output_type": "stream",
          "name": "stdout",
          "text": [
            "================================\u001b[1m Human Message \u001b[0m=================================\n",
            "\n",
            "Ya that's helpful. Maybe I'll build an autonomous agent with it!\n",
            "==================================\u001b[1m Ai Message \u001b[0m==================================\n",
            "\n",
            "That's a great idea! LangGraph is well-suited for building autonomous agents. It allows you to define the agent's actions, goals, and how it interacts with its environment. \n",
            "\n",
            "What kind of autonomous agent are you thinking of building?  I'd be happy to brainstorm some ideas with you or help you find resources to get started.\n"
          ]
        }
      ]
    },
    {
      "cell_type": "code",
      "source": [
        "to_replay = None\n",
        "for state in graph.get_state_history(config):\n",
        "    print(\"Num Messages: \", len(state.values[\"messages\"]), \"Next: \", state.next)\n",
        "    print(\"-\" * 80)\n",
        "    if len(state.values[\"messages\"]) == 6:\n",
        "        # We are somewhat arbitrarily selecting a specific state based on the number of chat messages in the state.\n",
        "        to_replay = state\n"
      ],
      "metadata": {
        "colab": {
          "base_uri": "https://localhost:8080/"
        },
        "id": "46cXOmH2vv-a",
        "outputId": "35fcb6fd-fdbc-4098-c453-1db700d7def3"
      },
      "execution_count": null,
      "outputs": [
        {
          "output_type": "stream",
          "name": "stdout",
          "text": [
            "Num Messages:  6 Next:  ()\n",
            "--------------------------------------------------------------------------------\n",
            "Num Messages:  5 Next:  ('chatbot',)\n",
            "--------------------------------------------------------------------------------\n",
            "Num Messages:  4 Next:  ('__start__',)\n",
            "--------------------------------------------------------------------------------\n",
            "Num Messages:  4 Next:  ()\n",
            "--------------------------------------------------------------------------------\n",
            "Num Messages:  3 Next:  ('chatbot',)\n",
            "--------------------------------------------------------------------------------\n",
            "Num Messages:  2 Next:  ('tools',)\n",
            "--------------------------------------------------------------------------------\n",
            "Num Messages:  1 Next:  ('chatbot',)\n",
            "--------------------------------------------------------------------------------\n",
            "Num Messages:  0 Next:  ('__start__',)\n",
            "--------------------------------------------------------------------------------\n"
          ]
        }
      ]
    },
    {
      "cell_type": "markdown",
      "source": [
        "**Notice** that checkpoints are saved for every step of the graph. This __spans invocations__ so you can rewind across a full thread's history. We've picked out `to_replay` as a state to resume from. This is the state after the `chatbot` node in the second graph invocation above.\n",
        "\n",
        "Resuming from this point should call the **action** node next."
      ],
      "metadata": {
        "id": "7GueqyajwDTI"
      }
    },
    {
      "cell_type": "code",
      "source": [
        "print(to_replay.next)\n",
        "print(to_replay.config)"
      ],
      "metadata": {
        "colab": {
          "base_uri": "https://localhost:8080/"
        },
        "id": "CFWNYO_-wHvg",
        "outputId": "ebf147e9-17ff-4f2b-a6fb-9a34dd060e84"
      },
      "execution_count": null,
      "outputs": [
        {
          "output_type": "stream",
          "name": "stdout",
          "text": [
            "()\n",
            "{'configurable': {'thread_id': '1', 'checkpoint_ns': '', 'checkpoint_id': '1ef9f7a8-d671-63e0-8006-864e4fc00ca0'}}\n"
          ]
        }
      ]
    },
    {
      "cell_type": "markdown",
      "source": [
        "**Notice** that the checkpoint's config (`to_replay.config`) contains a `checkpoint_id` **timestamp**. Providing this `checkpoint_id` value tells LangGraph's checkpointer to **load** the state from that moment in time. Let's try it below:"
      ],
      "metadata": {
        "id": "q6ZVmS4uwU6A"
      }
    },
    {
      "cell_type": "code",
      "source": [
        "# The `checkpoint_id` in the `to_replay.config` corresponds to a state we've persisted to our checkpointer.\n",
        "for event in graph.stream(None, to_replay.config, stream_mode=\"values\"):\n",
        "    if \"messages\" in event:\n",
        "        event[\"messages\"][-1].pretty_print()"
      ],
      "metadata": {
        "colab": {
          "base_uri": "https://localhost:8080/"
        },
        "id": "YVzGndSMwXd7",
        "outputId": "a3489be2-698e-49a5-b78f-4b554fae06dd"
      },
      "execution_count": null,
      "outputs": [
        {
          "output_type": "stream",
          "name": "stdout",
          "text": [
            "==================================\u001b[1m Ai Message \u001b[0m==================================\n",
            "\n",
            "That's a great idea! LangGraph is well-suited for building autonomous agents. It allows you to define the agent's actions, goals, and how it interacts with its environment. \n",
            "\n",
            "What kind of autonomous agent are you thinking of building?  I'd be happy to brainstorm some ideas with you or help you find resources to get started.\n"
          ]
        }
      ]
    },
    {
      "cell_type": "markdown",
      "source": [
        "**Revision**"
      ],
      "metadata": {
        "id": "BMyYodHRPkhn"
      }
    },
    {
      "cell_type": "code",
      "source": [
        "#\n",
        "# STEP 4\n",
        "# Define the chatbot function which uses the bound LLM and tools\n",
        "def chatbot(state: State):\n",
        "    # Invoke the LLM with the state messages\n",
        "    response = llm_with_tools.invoke(\"Connect me with a LangGraph Expart for paid  Project\")\n",
        "\n",
        "response.pretty_print()\n"
      ],
      "metadata": {
        "colab": {
          "base_uri": "https://localhost:8080/"
        },
        "id": "m0dmnoBr90Nk",
        "outputId": "f3a300bb-ad07-4b33-aca2-de7231b128a3"
      },
      "execution_count": null,
      "outputs": [
        {
          "output_type": "stream",
          "name": "stdout",
          "text": [
            "==================================\u001b[1m Ai Message \u001b[0m==================================\n",
            "\n",
            "Hello there! How can I help you today?\n"
          ]
        }
      ]
    }
  ]
}