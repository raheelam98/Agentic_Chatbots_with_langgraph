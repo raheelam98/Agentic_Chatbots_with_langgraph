{
  "nbformat": 4,
  "nbformat_minor": 0,
  "metadata": {
    "colab": {
      "provenance": [],
      "authorship_tag": "ABX9TyP+mIdJqpo3uKmCUZXa9hWl",
      "include_colab_link": true
    },
    "kernelspec": {
      "name": "python3",
      "display_name": "Python 3"
    },
    "language_info": {
      "name": "python"
    }
  },
  "cells": [
    {
      "cell_type": "markdown",
      "metadata": {
        "id": "view-in-github",
        "colab_type": "text"
      },
      "source": [
        "<a href=\"https://colab.research.google.com/github/raheelam98/Agentic_Chatbots_with_langgraph/blob/main/Agentic_Chatbots.ipynb\" target=\"_parent\"><img src=\"https://colab.research.google.com/assets/colab-badge.svg\" alt=\"Open In Colab\"/></a>"
      ]
    },
    {
      "cell_type": "markdown",
      "source": [
        "### Agentic Chatbots\n",
        "Autonomous systems that perform tasks, make decisions, and interact with users with minimal human intervention. Leveraging advanced AI, they understand context, learn from interactions, and provide personalized responses"
      ],
      "metadata": {
        "id": "zlVr3rQZ9tp5"
      }
    },
    {
      "cell_type": "markdown",
      "source": [
        "Install the required packages:"
      ],
      "metadata": {
        "id": "0J4WE32f-UWK"
      }
    },
    {
      "cell_type": "code",
      "source": [
        "# install the required packages\n",
        "\n",
        "%%capture --no-stderr\n",
        "%pip install -U langgraph langsmith langchain_google_genai"
      ],
      "metadata": {
        "id": "kR7eS9vI-T9y"
      },
      "execution_count": 6,
      "outputs": []
    },
    {
      "cell_type": "markdown",
      "source": [
        "API keys"
      ],
      "metadata": {
        "id": "u6r63EpZ_Dl-"
      }
    },
    {
      "cell_type": "code",
      "execution_count": 8,
      "metadata": {
        "id": "84jg4r-M9d-R"
      },
      "outputs": [],
      "source": [
        "# API Keys\n",
        "import os\n",
        "from google.colab import userdata\n",
        "\n",
        "os.environ[\"LANGCHAIN_API_KEY\"] = userdata.get('LANGCHAIN_API_KEY')\n",
        "os.environ[\"LANGCHAIN_TRACING_V2\"] = \"true\"\n",
        "os.environ[\"LANGCHAIN_PROJECT\"] = \"quickstart\"\n",
        "\n",
        "gemini_api_key = userdata.get('GEMINI_API_KEY')"
      ]
    },
    {
      "cell_type": "code",
      "source": [
        "# check graph is running\n",
        "from langchain_google_genai import ChatGoogleGenerativeAI\n",
        "\n",
        "llm = ChatGoogleGenerativeAI(\n",
        "    model=\"gemini-1.5-flash\",\n",
        "    max_retries=2,\n",
        "    api_key=gemini_api_key\n",
        ")\n",
        "\n",
        "llm.invoke(\"lang graph\")"
      ],
      "metadata": {
        "colab": {
          "base_uri": "https://localhost:8080/"
        },
        "id": "KCMJqys2_VGz",
        "outputId": "50deb1c1-e95e-439f-cb0e-14068fd111ee"
      },
      "execution_count": 9,
      "outputs": [
        {
          "output_type": "execute_result",
          "data": {
            "text/plain": [
              "AIMessage(content='Please provide me with more information about what you\\'d like to see in a \"lang graph\".  \\n\\nTo help me create the best possible graph for you, please tell me:\\n\\n* **What languages are you interested in?**  Do you want to see relationships between programming languages, natural languages, or something else?\\n* **What kind of relationships are you interested in?**  For example, are you looking at:\\n    * **Family trees:**  How languages are related to each other historically.\\n    * **Popularity:**  How many people use different languages.\\n    * **Compatibility:**  How well different languages can work together.\\n    * **Features:**  Which languages have certain features in common.\\n* **What format would you like the graph in?**  Would you prefer a:\\n    * **Textual description:**  A list of languages and their relationships.\\n    * **Diagram:**  A visual representation of the relationships between languages.\\n    * **Interactive tool:**  A way to explore the relationships between languages in an interactive way.\\n\\nOnce I have this information, I can create a \"lang graph\" that meets your needs. \\n', additional_kwargs={}, response_metadata={'prompt_feedback': {'block_reason': 0, 'safety_ratings': []}, 'finish_reason': 'STOP', 'safety_ratings': [{'category': 'HARM_CATEGORY_SEXUALLY_EXPLICIT', 'probability': 'NEGLIGIBLE', 'blocked': False}, {'category': 'HARM_CATEGORY_HATE_SPEECH', 'probability': 'NEGLIGIBLE', 'blocked': False}, {'category': 'HARM_CATEGORY_HARASSMENT', 'probability': 'NEGLIGIBLE', 'blocked': False}, {'category': 'HARM_CATEGORY_DANGEROUS_CONTENT', 'probability': 'NEGLIGIBLE', 'blocked': False}]}, id='run-af7e1f3c-bca2-4d08-9444-4d370f6d0ee3-0', usage_metadata={'input_tokens': 3, 'output_tokens': 242, 'total_tokens': 245, 'input_token_details': {'cache_read': 0}})"
            ]
          },
          "metadata": {},
          "execution_count": 9
        }
      ]
    },
    {
      "cell_type": "code",
      "source": [
        "# check graph is running\n",
        "from langchain_google_genai import ChatGoogleGenerativeAI\n",
        "\n",
        "llm = ChatGoogleGenerativeAI(\n",
        "    model=\"gemini-1.5-flash\",\n",
        "    max_retries=2,\n",
        "    api_key=gemini_api_key\n",
        ")\n",
        "\n",
        "response = llm.invoke([{\"role\": \"user\", \"content\": \"greet me\"}])"
      ],
      "metadata": {
        "id": "aVGM3n4aBF9i"
      },
      "execution_count": 10,
      "outputs": []
    },
    {
      "cell_type": "markdown",
      "source": [
        "Chatbot with tools (part 2)"
      ],
      "metadata": {
        "id": "fpULzB_3X67s"
      }
    },
    {
      "cell_type": "code",
      "source": [
        "%%capture --no-stderr\n",
        "%pip install -U tavily-python langchain_community"
      ],
      "metadata": {
        "id": "lrCveq3kYORq"
      },
      "execution_count": 17,
      "outputs": []
    },
    {
      "cell_type": "code",
      "source": [
        "os.environ[\"TAVILY_API_KEY\"] = userdata.get(\"TAVILY_API_KEY\")"
      ],
      "metadata": {
        "id": "M-FM_o9SYVaM"
      },
      "execution_count": 18,
      "outputs": []
    },
    {
      "cell_type": "markdown",
      "source": [
        "## Part 1: Build a Basic Chatbot\n",
        "\n",
        "Create a chatbot that responds directly to user messages.\n",
        "\n",
        "It is a large language model, trained by Google,\n",
        "\n",
        "without access to real-time information (e.g., Karachi Weather) and\n",
        "\n",
        "without retaining memory of previous interactions.\""
      ],
      "metadata": {
        "id": "78jyAv4__nrm"
      }
    },
    {
      "cell_type": "code",
      "source": [
        "from typing import Annotated\n",
        "\n",
        "from typing_extensions import TypedDict\n",
        "\n",
        "from langgraph.graph import StateGraph, START, END\n",
        "from langgraph.graph.message import add_messages\n",
        "\n",
        "# Define the State class with a list of messages\n",
        "class State(TypedDict):\n",
        "    messages: Annotated[list, add_messages]\n",
        "\n",
        "\n",
        "# Create a StateGraph instance with the State type\n",
        "graph_builder = StateGraph(State)\n",
        "\n",
        "\n",
        "# Define the chatbot function that uses the state and returns a response from the LLM\n",
        "def chatbot(state: State):\n",
        "    return {\"messages\": [llm.invoke(state[\"messages\"])]}\n",
        "\n",
        "# NOTE\n",
        "# The first argument is the unique node name\n",
        "# The second argument is the function or object that will be called whenever\n",
        "# the node is used.\n",
        "\n",
        "# Check if the node already exists before adding it\n",
        "if \"chatbot\" not in graph_builder.nodes:\n",
        "    graph_builder.add_node(\"chatbot\", chatbot)\n",
        "else:\n",
        "    print(\"Node 'chatbot' already present.\")\n",
        "\n",
        "# # Adding nodes\n",
        "graph_builder.add_edge(START, \"chatbot\")\n",
        "graph_builder.add_edge(\"chatbot\", END)\n",
        "\n",
        "# Compile the graph\n",
        "graph = graph_builder.compile()\n"
      ],
      "metadata": {
        "id": "PoCgQyGqAIUl"
      },
      "execution_count": 12,
      "outputs": []
    },
    {
      "cell_type": "markdown",
      "source": [
        "**Visualize the graph**\n",
        "\n",
        "Use get_graph to obtain the graph.\n",
        "\n",
        "Choose a draw method (draw_ascii or draw_png).\n",
        "\n",
        "Ensure you have the required dependencies installed for the chosen draw method."
      ],
      "metadata": {
        "id": "5IUMPX67Ftkc"
      }
    },
    {
      "cell_type": "code",
      "source": [
        "from IPython.display import Image, display\n",
        "\n",
        "try:\n",
        "    display(Image(graph.get_graph().draw_mermaid_png()))\n",
        "except Exception:\n",
        "    # This requires some extra dependencies and is optional\n",
        "    pass"
      ],
      "metadata": {
        "colab": {
          "base_uri": "https://localhost:8080/",
          "height": 251
        },
        "id": "JV4IQ3xsGYqc",
        "outputId": "e2514523-fe71-41fb-cc23-8477d65a5ea0"
      },
      "execution_count": 13,
      "outputs": [
        {
          "output_type": "display_data",
          "data": {
            "image/jpeg": "[encoded data removed]",
            "text/plain": [
              "<IPython.core.display.Image object>"
            ]
          },
          "metadata": {}
        }
      ]
    },
    {
      "cell_type": "markdown",
      "source": [
        "Extracts the latest message from the use"
      ],
      "metadata": {
        "id": "yH8AyOHpSKGL"
      }
    },
    {
      "cell_type": "code",
      "source": [
        "# Loop through each event in the stream of events from the graph\n",
        "for event in graph.stream({\"messages\": [(\"user\", \"I am Raheela\")]}):\n",
        "    # Print the latest message content from the user\n",
        "    print(\"EVENT:\", list(event.values())[0][\"messages\"][-1].content)"
      ],
      "metadata": {
        "colab": {
          "base_uri": "https://localhost:8080/"
        },
        "id": "Ur5PQ3VESGvA",
        "outputId": "75c4308c-38c0-4c68-d76d-b234a26ca747"
      },
      "execution_count": 14,
      "outputs": [
        {
          "output_type": "stream",
          "name": "stdout",
          "text": [
            "EVENT: Hello Raheela, it's nice to meet you! What can I do for you today? \n",
            "\n"
          ]
        }
      ]
    },
    {
      "cell_type": "markdown",
      "source": [
        "Now let's run the chatbot!\n",
        "\n",
        "**Tip:** You can exit the chat loop at any time by typing \"quit\", \"exit\", or \"q\"."
      ],
      "metadata": {
        "id": "tUmHup3yRSZB"
      }
    },
    {
      "cell_type": "code",
      "source": [
        "def stream_graph_updates(user_input: str):\n",
        "    # Loop through each event in the stream of events from the graph based on user input\n",
        "    for event in graph.stream({\"messages\": [(\"user\", user_input)]}):\n",
        "        # Loop through each value in the event\n",
        "        for value in event.values():\n",
        "            # Print the latest message content from the Assistant\n",
        "            print(\"Assistant:\", value[\"messages\"][-1].content)\n",
        "\n",
        "# Continuously prompt the user for input\n",
        "while True:\n",
        "    try:\n",
        "        # Get input from the user\n",
        "        user_input = input(\"User: \")\n",
        "        # Check if the user wants to quit\n",
        "        if user_input.lower() in [\"quit\", \"exit\", \"q\"]:\n",
        "            # Print a goodbye message and break the loop\n",
        "            print(\"Goodbye!\")\n",
        "            break\n",
        "\n",
        "        # Call the stream_graph_updates function with the user input\n",
        "        stream_graph_updates(user_input)\n",
        "    except:\n",
        "        # Fallback if input() is not available\n",
        "        user_input = \"What do you know about LangGraph?\"\n",
        "        # Print the fallback user input\n",
        "        print(\"User: \" + user_input)\n",
        "        # Call the stream_graph_updates function with the fallback user input\n",
        "        stream_graph_updates(user_input)\n",
        "        break\n"
      ],
      "metadata": {
        "colab": {
          "base_uri": "https://localhost:8080/"
        },
        "id": "3PCda9knShzj",
        "outputId": "c857c432-cacd-4b4e-ab6a-1923d31f9031"
      },
      "execution_count": 25,
      "outputs": [
        {
          "output_type": "stream",
          "name": "stdout",
          "text": [
            "User: q\n",
            "Goodbye!\n"
          ]
        }
      ]
    },
    {
      "cell_type": "markdown",
      "source": [
        "## Part 2: Enhancing the Chatbot with Tools\n",
        "\n",
        "[Tavily Search Engine](https://python.langchain.com/docs/integrations/tools/tavily_search/), and set your [TAVILY_API_KEY](https://tavily.com/)."
      ],
      "metadata": {
        "id": "L67FO9RGU2G1"
      }
    },
    {
      "cell_type": "markdown",
      "source": [
        "Added `bind_tools` on our LLM. This lets the LLM know the correct JSON format to use if it wants to use our search engine."
      ],
      "metadata": {
        "id": "H9cSorLrZSFv"
      }
    },
    {
      "cell_type": "markdown",
      "source": [
        "\n",
        "#### Integrating tools for search results\n",
        "\n",
        "Install the Required Packages to Add Tool (tavily-python and langchain_community) for Real-Time Search (e.g., Karachi Weather)\n",
        "\n",
        "```bash\n",
        "%%capture --no-stderr\n",
        "%pip install -U tavily-python langchain_community\n",
        "```\n",
        "\n",
        "Setting the API key in the environment variable TAVILY_API_KEY\n",
        "\n",
        "```bash\n",
        "os.environ[\"TAVILY_API_KEY\"] = userdata.get(\"TAVILY_API_KEY\")\n",
        "```\n",
        "\n",
        "Next, define the tool\n",
        "\n",
        "**`TavilySearchResults(max_results=2)`** initializes a search tool that retrieves and returns up to 2 search results.\n",
        "\n",
        "Initializes a search tool that retrieves and returns up to 2 search results.\n",
        "```bash\n",
        "tool = TavilySearchResults(max_results=2)\n",
        "tools = [tool]\n",
        "```\n",
        "\n",
        "**`bind_tools()`** Integrates the specified tools with the language model, enabling the model to invoke these tools during its execution\n",
        "\n",
        "```bash\n",
        "llm_with_tools = llm.bind_tools(tools)\n",
        "```\n",
        "This line integrates the tools list with the language model llm, resulting in a new instance (llm_with_tools) that can use these tools during its operations.\n",
        "\n",
        "**`add_conditional_edges`** Define conditional edges for the chatbot node based on tool usage\n",
        "```bash\n",
        "graph_builder.add_conditional_edges(\n",
        "    \"chatbot\",\n",
        "    tools_condition\n",
        ")\n",
        "```"
      ],
      "metadata": {
        "id": "I-AUteiwioRC"
      }
    },
    {
      "cell_type": "markdown",
      "source": [
        "**rm note**\n",
        "\n",
        "**`ToolNode`** is a built-in function of LangGraph. We can create our own custom function that provides a list of tools such as a search engine, Excel file operations, weather search, or database search in SQL. To integrate these tools into LangGraph, pass them into a custom `ToolNode`. We’ll build our own `BasicToolNode` and replace LangGraph’s prebuilt `ToolNode` and `tools_condition` with it, using\n",
        "\n",
        "ToolNode(tools=[your_tool]).\n",
        "\n",
        "\n",
        "**ToolNode** is essentially a node within a workflow or graph that is designated to execute a specific tool or function when called.\n",
        "\n",
        "**ToolNode** is a LangChain Runnable that takes graph state (with a list of messages) as input and outputs state update with the result of tool calls.\n",
        "\n",
        "**ToolNode** is just a class that helps with this execution. You pass it your list of tools, and internally it stores them as name-function pairs."
      ],
      "metadata": {
        "id": "uC6HKz_p4_Pd"
      }
    },
    {
      "cell_type": "markdown",
      "source": [
        "**`add_conditional_edges()`** is a function used to add conditional connections between nodes in a graph, based on specific conditions. It helps create dynamic workflows where the next step depends on certain criteria being met.\n",
        "\n",
        "**`graph_builder.add_conditional_edges(\"chatbot\", tools_condition)`**\n",
        "\n",
        "Purpose: Adds an edge from the `chatbot` node to another node, only if the `tools_condition` is satisfied."
      ],
      "metadata": {
        "id": "1hQNWrlp5mYt"
      }
    },
    {
      "cell_type": "code",
      "source": [
        "from typing import Annotated\n",
        "\n",
        "from langchain_community.tools.tavily_search import TavilySearchResults\n",
        "from langchain_core.messages import BaseMessage\n",
        "from typing_extensions import TypedDict\n",
        "\n",
        "from langgraph.graph import StateGraph, START, END\n",
        "from langgraph.graph.message import add_messages\n",
        "from langgraph.prebuilt import ToolNode, tools_condition\n",
        "\n",
        "#(part 1 : Basic Chatbot)\n",
        "# Define the State class with a list of messages (part 1)\n",
        "class State(TypedDict):\n",
        "    messages: Annotated[list, add_messages]\n",
        "\n",
        "#(part 1 : Basic Chatbot)\n",
        "# Create a StateGraph instance with the State type (part 1)\n",
        "graph_builder = StateGraph(State)\n",
        "\n",
        "# (Part 2: Enhancing the Chatbot with Tools)\n",
        "# Initializes a search tool that retrieves and returns up to 2 search results.\n",
        "tool = TavilySearchResults(max_results=2)\n",
        "tools = [tool]\n",
        "\n",
        "# (Part 2: Enhancing the Chatbot with Tools)\n",
        "# Modification: tell the LLM which tools it can call\n",
        "llm_with_tools = llm.bind_tools(tools)\n",
        "\n",
        "#(part 1 : Basic Chatbot)\n",
        "# Define the chatbot function that uses the state and returns a response from the LLM\n",
        "def chatbot(state: State):\n",
        "    return {\"messages\": [llm_with_tools.invoke(state[\"messages\"])]}\n",
        "\n",
        "#(part 1 : Basic Chatbot)\n",
        "# Any time a tool is called, we return to the chatbot to decide the next step\n",
        "graph_builder.add_node(\"chatbot\", chatbot)\n",
        "\n",
        "# (Part 2: Enhancing the Chatbot with Tools)\n",
        "# Add the tools node to the graph\n",
        "tool_node = ToolNode(tools=[tool])\n",
        "graph_builder.add_node(\"tools\", tool_node)\n",
        "\n",
        "# (Part 2: Enhancing the Chatbot with Tools)\n",
        "# Define conditional edges for the chatbot node based on tool usage\n",
        "graph_builder.add_conditional_edges(\n",
        "    \"chatbot\",\n",
        "    tools_condition\n",
        ")\n",
        "\n",
        "#(part 1 : Basic Chatbot)\n",
        "# Any time a tool is called, we return to the chatbot to decide the next step\n",
        "graph_builder.add_edge(\"tools\", \"chatbot\")\n",
        "\n",
        "# Define the starting point of the graph as the chatbot node\n",
        "graph_builder.add_edge(START, \"chatbot\")\n",
        "\n",
        "#(part 1 : Basic Chatbot)\n",
        "# Compile the graph\n",
        "graph = graph_builder.compile()"
      ],
      "metadata": {
        "id": "PUSnH4ryYriV"
      },
      "execution_count": 22,
      "outputs": []
    },
    {
      "cell_type": "markdown",
      "source": [
        " **Visualize the graph**"
      ],
      "metadata": {
        "id": "mCSlSHHUfA53"
      }
    },
    {
      "cell_type": "code",
      "source": [
        "from IPython.display import Image, display\n",
        "\n",
        "try:\n",
        "    display(Image(graph.get_graph().draw_mermaid_png()))\n",
        "except Exception:\n",
        "    # This requires some extra dependencies and is optional\n",
        "    pass"
      ],
      "metadata": {
        "colab": {
          "base_uri": "https://localhost:8080/",
          "height": 266
        },
        "id": "NykoVSCffNgt",
        "outputId": "d73ecd7e-3afe-4049-b7e2-eac63a43233b"
      },
      "execution_count": 23,
      "outputs": [
        {
          "output_type": "display_data",
          "data": {
            "image/jpeg": "[encoded data removed]",
            "text/plain": [
              "<IPython.core.display.Image object>"
            ]
          },
          "metadata": {}
        }
      ]
    },
    {
      "cell_type": "markdown",
      "source": [
        "Now we can ask the bot questions outside its training data."
      ],
      "metadata": {
        "id": "4Hxrw5QfwfAH"
      }
    },
    {
      "cell_type": "markdown",
      "source": [
        "Chatbot Loop with Real-Time User Input Processing and No Memory Retention"
      ],
      "metadata": {
        "id": "rWPZaiTrwgA-"
      }
    },
    {
      "cell_type": "code",
      "source": [
        "# 1) Web search is available. 2) Does not maintain chat history (no memory).\n",
        "while True:\n",
        "    try:\n",
        "        # Prompt the user for input\n",
        "        user_input = input(\"User: \")\n",
        "        # Check if the user wants to quit\n",
        "        if user_input.lower() in [\"quit\", \"exit\", \"q\"]:\n",
        "            # Print a goodbye message and break the loop\n",
        "            print(\"Goodbye!\")\n",
        "            break\n",
        "\n",
        "        # Call the stream_graph_updates function with the user input\n",
        "        stream_graph_updates(user_input)\n",
        "    except:\n",
        "        # Fallback if input() is not available\n",
        "        user_input = \"What do you know about LangGraph?\"\n",
        "        # Print the fallback user input\n",
        "        print(\"User: \" + user_input)\n",
        "        # Call the stream_graph_updates function with the fallback user input\n",
        "        stream_graph_updates(user_input)\n",
        "        break\n"
      ],
      "metadata": {
        "colab": {
          "base_uri": "https://localhost:8080/"
        },
        "id": "wXfPJb2B2AVc",
        "outputId": "b6160270-4c22-455a-f3a5-8fd95c160ebe"
      },
      "execution_count": 26,
      "outputs": [
        {
          "output_type": "stream",
          "name": "stdout",
          "text": [
            "User: q\n",
            "Goodbye!\n"
          ]
        }
      ]
    },
    {
      "cell_type": "markdown",
      "source": [
        "## Part 3: Adding Memory to the Chatbot"
      ],
      "metadata": {
        "id": "tuX1hU8g6Wgs"
      }
    },
    {
      "cell_type": "markdown",
      "source": [
        "**Memory checkpointing**\n",
        "\n",
        "```bash\n",
        "from langgraph.checkpoint.memory import MemorySaver\n",
        "\n",
        "memory = MemorySaver()\n",
        "```\n",
        "```bash\n",
        "graph = graph_builder.compile(checkpointer=memory)\n",
        "```\n",
        "checkpointing the State as the graph works through each node.\n",
        "\n",
        "**`graph = graph_builder.compile(checkpointer=MemorySaver())`**  compiles the graph with memory checkpointing, allowing it to save and restore the state of the graph's nodes during its execution.\n",
        "\n",
        "To interact with the bot, first, pick a thread to use as the key for this conversation.\n",
        "```bash\n",
        "config = {\"configurable\": {\"thread_id\": \"1\"}}\n",
        "```\n",
        "\n",
        "The **chatbot can remember the state of the conversation within a given thread** but won't retain context if the thread ID is changed."
      ],
      "metadata": {
        "id": "RB32OdryFAge"
      }
    },
    {
      "cell_type": "code",
      "source": [
        "from typing import Annotated\n",
        "\n",
        "from langchain_community.tools.tavily_search import TavilySearchResults\n",
        "from typing_extensions import TypedDict\n",
        "\n",
        "from langgraph.checkpoint.memory import MemorySaver\n",
        "from langgraph.graph import StateGraph, START\n",
        "from langgraph.graph.message import add_messages\n",
        "from langgraph.prebuilt import ToolNode, tools_condition\n",
        "\n",
        "# (Part 3: Adding Memory to the Chatbot)\n",
        "memory = MemorySaver()\n",
        "\n",
        "# (Part 1: Basic Chatbot)\n",
        "# Define the State class with a list of messages (part 1)\n",
        "class State(TypedDict):\n",
        "    messages: Annotated[list, add_messages]\n",
        "\n",
        "# (Part 1: Basic Chatbot)\n",
        "# Create a StateGraph instance with the State type (part 1)\n",
        "graph_builder = StateGraph(State)\n",
        "\n",
        "# (Part 2: Enhancing the Chatbot with Tools)\n",
        "# Initializes a search tool that retrieves and returns up to 2 search results.\n",
        "tool = TavilySearchResults(max_results=2)\n",
        "tools = [tool]\n",
        "\n",
        "# (Part 2: Enhancing the Chatbot with Tools)\n",
        "# Integrate LLM with bind_tools for web search\n",
        "llm_with_tools = llm.bind_tools(tools)\n",
        "\n",
        "# (Part 1: Basic Chatbot)\n",
        "# Define the chatbot function that uses the state and returns a response from the LLM\n",
        "def chatbot(state: State):\n",
        "    return {\"messages\": [llm_with_tools.invoke(state[\"messages\"])]}\n",
        "\n",
        "# (Part 1: Basic Chatbot)\n",
        "# Add the chatbot node to the graph\n",
        "graph_builder.add_node(\"chatbot\", chatbot)\n",
        "\n",
        "# (Part 2: Enhancing the Chatbot with Tools)\n",
        "# Add the tools node to the graph\n",
        "tool_node = ToolNode(tools=[tool])\n",
        "graph_builder.add_node(\"tools\", tool_node)\n",
        "\n",
        "# (Part 2: Enhancing the Chatbot with Tools)\n",
        "# Define conditional edges for the chatbot node based on tool usage\n",
        "graph_builder.add_conditional_edges(\n",
        "    \"chatbot\",\n",
        "    tools_condition,\n",
        ")\n",
        "\n",
        "# (Part 1: Basic Chatbot)\n",
        "# Any time a tool is called, we return to the chatbot to decide the next step\n",
        "graph_builder.add_edge(\"tools\", \"chatbot\")\n",
        "\n",
        "# (Part 1: Basic Chatbot)\n",
        "# Define the starting point of the graph as the chatbot node\n",
        "graph_builder.add_edge(START, \"chatbot\")\n",
        "\n",
        "# (Part 3: Adding Memory to the Chatbot)\n",
        "# Compile the graph with memory checkpointing\n",
        "graph = graph_builder.compile(checkpointer=MemorySaver())\n"
      ],
      "metadata": {
        "id": "A0bI5JdKGviD"
      },
      "execution_count": 30,
      "outputs": []
    },
    {
      "cell_type": "markdown",
      "source": [
        " **Visualize the graph**"
      ],
      "metadata": {
        "id": "Da9FFeB7GWqH"
      }
    },
    {
      "cell_type": "code",
      "source": [
        "from IPython.display import Image, display\n",
        "\n",
        "try:\n",
        "    display(Image(graph.get_graph().draw_mermaid_png()))\n",
        "except Exception:\n",
        "    # This requires some extra dependencies and is optional\n",
        "    pass"
      ],
      "metadata": {
        "colab": {
          "base_uri": "https://localhost:8080/",
          "height": 266
        },
        "id": "2O00-_BBGWSU",
        "outputId": "1beaa69d-ba2f-4742-cbcf-ef11faeaeeb6"
      },
      "execution_count": 31,
      "outputs": [
        {
          "output_type": "display_data",
          "data": {
            "image/jpeg": "[encoded data removed]",
            "text/plain": [
              "<IPython.core.display.Image object>"
            ]
          },
          "metadata": {}
        }
      ]
    },
    {
      "cell_type": "markdown",
      "source": [
        "Now you can interact with your bot! First, pick a thread to use as the key for this conversation."
      ],
      "metadata": {
        "id": "y4xNWmPlJ5P3"
      }
    },
    {
      "cell_type": "code",
      "source": [
        "config = {\"configurable\": {\"thread_id\": \"1\"}}"
      ],
      "metadata": {
        "id": "9yVIIb0gJ7Vg"
      },
      "execution_count": 33,
      "outputs": []
    },
    {
      "cell_type": "markdown",
      "source": [
        "Next, call your chat bot."
      ],
      "metadata": {
        "id": "XNU58obeJDbC"
      }
    },
    {
      "cell_type": "code",
      "source": [
        "user_input = \"Hi there! My name is Raheela.\"\n",
        "\n",
        "# The config is the **second positional argument** to stream() or invoke()!\n",
        "events = graph.stream(\n",
        "    {\"messages\": [(\"user\", user_input)]}, config, stream_mode=\"values\"\n",
        ")\n",
        "\n",
        "# Loop through each event in the stream\n",
        "for event in events:\n",
        "    # Print the latest message content from the event\n",
        "    event[\"messages\"][-1].pretty_print()"
      ],
      "metadata": {
        "colab": {
          "base_uri": "https://localhost:8080/"
        },
        "id": "_NinJdGoJcnG",
        "outputId": "23124d29-9cf0-4e62-8978-39d0a3c9505d"
      },
      "execution_count": 34,
      "outputs": [
        {
          "output_type": "stream",
          "name": "stdout",
          "text": [
            "================================\u001b[1m Human Message \u001b[0m=================================\n",
            "\n",
            "Hi there! My name is Raheela.\n",
            "==================================\u001b[1m Ai Message \u001b[0m==================================\n",
            "\n",
            "Hi Raheela, nice to meet you! 👋 What can I do for you today?\n"
          ]
        }
      ]
    },
    {
      "cell_type": "code",
      "source": [
        "user_input = \"Remember my name?\"\n",
        "\n",
        "# The config is the **second positional argument** to stream() or invoke()!\n",
        "events = graph.stream(\n",
        "    {\"messages\": [(\"user\", user_input)]}, config, stream_mode=\"values\"\n",
        ")\n",
        "\n",
        "# Loop through each event in the stream\n",
        "for event in events:\n",
        "    # Print the latest message content from the event\n",
        "    event[\"messages\"][-1].pretty_print()\n"
      ],
      "metadata": {
        "colab": {
          "base_uri": "https://localhost:8080/"
        },
        "id": "jc5LyOH9OxuD",
        "outputId": "2739565c-adcb-47dd-c247-e96171df42af"
      },
      "execution_count": 35,
      "outputs": [
        {
          "output_type": "stream",
          "name": "stdout",
          "text": [
            "================================\u001b[1m Human Message \u001b[0m=================================\n",
            "\n",
            "Remember my name?\n",
            "==================================\u001b[1m Ai Message \u001b[0m==================================\n",
            "\n",
            "I will try my best to remember your name, Raheela! 😊  Is there anything else I can help you with?\n"
          ]
        }
      ]
    },
    {
      "cell_type": "markdown",
      "source": [
        "The **chatbot can remember the state of the conversation within a given thread** but won't retain context if the thread ID is changed."
      ],
      "metadata": {
        "id": "jcioHvBqPYay"
      }
    },
    {
      "cell_type": "code",
      "source": [
        "# The only difference is we change the `thread_id` here to \"2\" instead of \"1\"\n",
        "events = graph.stream(\n",
        "    {\"messages\": [(\"user\", user_input)]},\n",
        "    {\"configurable\": {\"thread_id\": \"2\"}},\n",
        "    stream_mode=\"values\",\n",
        ")\n",
        "for event in events:\n",
        "    event[\"messages\"][-1].pretty_print()"
      ],
      "metadata": {
        "colab": {
          "base_uri": "https://localhost:8080/"
        },
        "id": "CWeMjreoP6Gq",
        "outputId": "65c994bf-b564-44ec-9bc7-d14501fc9ebd"
      },
      "execution_count": 36,
      "outputs": [
        {
          "output_type": "stream",
          "name": "stdout",
          "text": [
            "================================\u001b[1m Human Message \u001b[0m=================================\n",
            "\n",
            "Remember my name?\n",
            "==================================\u001b[1m Ai Message \u001b[0m==================================\n",
            "\n",
            "I am sorry, I do not have memory of past conversations. I am a large language model, and I do not have the ability to store personal information like names. If you would like to tell me your name, I will be happy to remember it for this conversation.\n"
          ]
        }
      ]
    },
    {
      "cell_type": "markdown",
      "source": [
        "goes into a checkpoint? To inspect a graph's state for a given config at any time, call get_state(config).\n",
        "\n",
        "```bash\n",
        "# Fetch the current state of the graph for the given configuration\n",
        "snapshot = graph.get_state(config)\n",
        "\n",
        "# Inspect the snapshot\n",
        "snapshot\n",
        "\n",
        "```\n",
        "\n",
        "Retrieve the next node to execute (empty if the graph ended this turn)\n",
        "\n",
        "```bash\n",
        "snapshot.next\n",
        "```\n",
        "(since the graph ended this turn, `next` is empty. If you fetch a state from within a graph invocation, next tells which node will execute next)"
      ],
      "metadata": {
        "id": "Wq6L0r3qQjfO"
      }
    },
    {
      "cell_type": "markdown",
      "source": [
        "## Part 4: Human-in-the-loop"
      ],
      "metadata": {
        "id": "8m9yKfxGSjYr"
      }
    },
    {
      "cell_type": "markdown",
      "source": [
        "**Freezer and un unfreez node**\n",
        "\n",
        "LangGraph's interrupt_before functionality to always break the tool node.\n",
        "\n",
        "```bash\n",
        "graph = graph_builder.compile(checkpointer=memory, interrupt_before=[\"tools\"])\n",
        "```\n",
        "**`interrupt_before=[\"tools\"]`**   This is new!\n",
        "\n",
        "Note: can also interrupt __after__ tools, if desired.\n",
        "**`interrupt_after=[\"tools\"]`**\n",
        "\n",
        "**`get_state()`**  Retrieve the current state or status of a particular object\n",
        "\n",
        "**`.next`** Find out what the next node to execute\n",
        "\n",
        "**`.config`** Show the current configuration of the state\n",
        "\n",
        "**`.value`**  Show all values\n",
        "\n",
        "* `snapshot = graph.get_state(config)`  # Retrieve the current state or status of the graph\n",
        "* `snapshot.config`  # Show the current configuration of the state\n",
        "* `snapshot.next`  # Retrieve the next node that will execute in the graph. If the graph ended this turn, next will be empty\n",
        "\n",
        "```bash\n",
        "snapshot = graph.get_state(config)  # Retrieve the current state or status of the graph\n",
        "snapshot.next  # Find out what the next node to execute is\n",
        "snapshot.config  # Show the current configuration of the state\n",
        "snapshot.values  # Show values\n",
        "snapshot.values['messages']  # Show messages\n",
        "\n",
        "existing_message = snapshot.values[\"messages\"][-1]  # Find out the last message\n",
        "existing_message.pretty_print()  # Print message\n",
        "\n",
        "existing_message.tool_calls  # Get tool data\n",
        "```"
      ],
      "metadata": {
        "id": "MrZwoSNkWQHg"
      }
    },
    {
      "cell_type": "code",
      "source": [
        "from typing import Annotated\n",
        "\n",
        "from langchain_community.tools.tavily_search import TavilySearchResults\n",
        "from typing_extensions import TypedDict\n",
        "\n",
        "from langgraph.checkpoint.memory import MemorySaver\n",
        "from langgraph.graph import StateGraph, START\n",
        "from langgraph.graph.message import add_messages\n",
        "from langgraph.prebuilt import ToolNode, tools_condition\n",
        "\n",
        "\n",
        "# (Part 1: Basic Chatbot)\n",
        "# Define the State class with a list of messages (part 1)\n",
        "class State(TypedDict):\n",
        "    messages: Annotated[list, add_messages]\n",
        "\n",
        "# (Part 1: Basic Chatbot)\n",
        "# Create a StateGraph instance with the State type (part 1)\n",
        "graph_builder = StateGraph(State)\n",
        "\n",
        "\n",
        "# (Part 2: Enhancing the Chatbot with Tools)\n",
        "# Initializes a search tool that retrieves and returns up to 2 search results.\n",
        "tool = TavilySearchResults(max_results=2)\n",
        "tools = [tool]\n",
        "\n",
        "# (Part 2: Enhancing the Chatbot with Tools)\n",
        "# Integrate LLM with bind_tools for web search\n",
        "llm_with_tools = llm.bind_tools(tools)\n",
        "\n",
        "# (Part 1: Basic Chatbot)\n",
        "# Define the chatbot function that uses the state and returns a response from the LLM\n",
        "def chatbot(state: State):\n",
        "    return {\"messages\": [llm_with_tools.invoke(state[\"messages\"])]}\n",
        "\n",
        "# (Part 1: Basic Chatbot)\n",
        "# Add the chatbot node to the graph\n",
        "graph_builder.add_node(\"chatbot\", chatbot)\n",
        "\n",
        "# (Part 2: Enhancing the Chatbot with Tools)\n",
        "# Add the tools node to the graph\n",
        "tool_node = ToolNode(tools=[tool])\n",
        "graph_builder.add_node(\"tools\", tool_node)\n",
        "\n",
        "# (Part 2: Enhancing the Chatbot with Tools)\n",
        "# Define conditional edges for the chatbot node based on tool usage\n",
        "graph_builder.add_conditional_edges(\n",
        "    \"chatbot\",\n",
        "    tools_condition,\n",
        ")\n",
        "\n",
        "# (Part 1: Basic Chatbot)\n",
        "# Any time a tool is called, we return to the chatbot to decide the next step\n",
        "graph_builder.add_edge(\"tools\", \"chatbot\")\n",
        "\n",
        "# (Part 1: Basic Chatbot)\n",
        "# Define the starting point of the graph as the chatbot node\n",
        "graph_builder.add_edge(START, \"chatbot\")\n",
        "\n",
        "# (Part 3: Adding Memory to the Chatbot)\n",
        "memory = MemorySaver()\n",
        "\n",
        "graph = graph_builder.compile(\n",
        "    checkpointer=memory,\n",
        "    # This is new! (Part 4: Human-in-the-loop)\n",
        "    interrupt_before=[\"tools\"],  #interrupt_before the tools node\n",
        ")"
      ],
      "metadata": {
        "id": "BEYknvlNTBiM"
      },
      "execution_count": 38,
      "outputs": []
    },
    {
      "cell_type": "code",
      "source": [
        "print(graph)"
      ],
      "metadata": {
        "colab": {
          "base_uri": "https://localhost:8080/"
        },
        "id": "kdlB-y7Bc-Ra",
        "outputId": "122f0bbf-ce11-4186-81d6-94c5bc7f8c3e"
      },
      "execution_count": 39,
      "outputs": [
        {
          "output_type": "stream",
          "name": "stdout",
          "text": [
            "<langgraph.graph.state.CompiledStateGraph object at 0x7e0d2cb46800>\n"
          ]
        }
      ]
    },
    {
      "cell_type": "code",
      "source": [
        "user_input = \"I'm learning LangGraph. Could you do some research on it for me?\"\n",
        "config = {\"configurable\": {\"thread_id\": \"1\"}}\n",
        "# The config is the **second positional argument** to stream() or invoke()!\n",
        "events = graph.stream({\"messages\": [(\"user\", user_input)]}, config)\n",
        "for event in events:\n",
        "    if \"messages\" in event:\n",
        "        event[\"messages\"][-1].pretty_print()"
      ],
      "metadata": {
        "id": "F-jvR1Xico2x"
      },
      "execution_count": 40,
      "outputs": []
    },
    {
      "cell_type": "code",
      "source": [
        "#inspect the graph state to confirm it worked.\n",
        "snapshot = graph.get_state(config)  # Retrieve the current state or status of the graph\n",
        "snapshot.next   # Retrieve the next node that will execute in the graph"
      ],
      "metadata": {
        "colab": {
          "base_uri": "https://localhost:8080/"
        },
        "id": "IwYN6GURcsuD",
        "outputId": "d5934ea3-9037-4025-bb30-60eb5d555fc3"
      },
      "execution_count": 41,
      "outputs": [
        {
          "output_type": "execute_result",
          "data": {
            "text/plain": [
              "('tools',)"
            ]
          },
          "metadata": {},
          "execution_count": 41
        }
      ]
    },
    {
      "cell_type": "markdown",
      "source": [
        "Notice that unlike last time, the \"next\" node is set to 'tools'. We've interrupted here! Let's check the tool invocation."
      ],
      "metadata": {
        "id": "ho3FEUrodhqn"
      }
    },
    {
      "cell_type": "code",
      "source": [
        "existing_message = snapshot.values[\"messages\"][-1]\n",
        "existing_message.tool_calls"
      ],
      "metadata": {
        "colab": {
          "base_uri": "https://localhost:8080/"
        },
        "id": "5fkyzqUsdjU-",
        "outputId": "610f78ca-cc63-4571-b798-3bb6da88608d"
      },
      "execution_count": 42,
      "outputs": [
        {
          "output_type": "execute_result",
          "data": {
            "text/plain": [
              "[{'name': 'tavily_search_results_json',\n",
              "  'args': {'query': 'LangGraph'},\n",
              "  'id': '8da7f130-7ebe-43c7-b32c-480e18ed9dbc',\n",
              "  'type': 'tool_call'}]"
            ]
          },
          "metadata": {},
          "execution_count": 42
        }
      ]
    },
    {
      "cell_type": "markdown",
      "source": [
        "`None` will append nothing new to the current state, letting it resume as if it had never been interrupted\n",
        "\n",
        "```bash\n",
        "events = graph.stream(None, config, stream_mode=\"values\")\n",
        "for event in events:\n",
        "    if \"messages\" in event:\n",
        "        event[\"messages\"][-1].pretty_print()\n",
        "```        "
      ],
      "metadata": {
        "id": "JzxEoLkeeeuL"
      }
    },
    {
      "cell_type": "markdown",
      "source": [
        "## Part 5: Manually Updating the State"
      ],
      "metadata": {
        "id": "5LFfceqRV2CY"
      }
    }
  ]
}